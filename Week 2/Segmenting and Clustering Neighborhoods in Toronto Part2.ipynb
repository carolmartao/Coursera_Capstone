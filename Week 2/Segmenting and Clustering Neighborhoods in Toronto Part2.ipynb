{
 "metadata": {
  "language_info": {
   "codemirror_mode": {
    "name": "ipython",
    "version": 3
   },
   "file_extension": ".py",
   "mimetype": "text/x-python",
   "name": "python",
   "nbconvert_exporter": "python",
   "pygments_lexer": "ipython3",
   "version": "3.8.5-final"
  },
  "orig_nbformat": 2,
  "kernelspec": {
   "name": "python3",
   "display_name": "Python 3.8.5 64-bit",
   "metadata": {
    "interpreter": {
     "hash": "aee8b7b246df8f9039afb4144a1f6fd8d2ca17a180786b69acc140d282b71a49"
    }
   }
  }
 },
 "nbformat": 4,
 "nbformat_minor": 2,
 "cells": [
  {
   "source": [
    "# Week 2  - Part 2\n",
    "## Segmenting and Clustering Neighborhoods in Toronto\n",
    "### Adding Latitude and Longitude Coordinates to DF\n",
    "---\n",
    "\n",
    "Activities:\n",
    "\n",
    "* Now that you have built a dataframe of the postal code of each neighborhood along with the borough name and neighborhood name, in order to utilize the Foursquare location data, we need to get the latitude and the longitude coordinates of each neighborhood. \n",
    "\n",
    "* In an older version of this course, we were leveraging the Google Maps Geocoding API to get the latitude and the longitude coordinates of each neighborhood. However, recently Google started charging for their API: http://geoawesomeness.com/developers-up-in-arms-over-google-maps-api-insane-price-hike/, so we will use the Geocoder Python package instead: https://geocoder.readthedocs.io/index.html.\n",
    "\n",
    "\n",
    "---"
   ],
   "cell_type": "markdown",
   "metadata": {}
  },
  {
   "cell_type": "code",
   "execution_count": 25,
   "metadata": {},
   "outputs": [
    {
     "output_type": "stream",
     "name": "stdout",
     "text": [
      "Success\n"
     ]
    }
   ],
   "source": [
    "#Importing Libraries\n",
    "import pandas as pd\n",
    "import numpy as np\n",
    "import geocoder\n",
    "print(\"Success\")"
   ]
  },
  {
   "cell_type": "code",
   "execution_count": 26,
   "metadata": {},
   "outputs": [
    {
     "output_type": "execute_result",
     "data": {
      "text/plain": [
       "  PostalCode           Borough                      Neighborhood\n",
       "0        M3A        North York                         Parkwoods\n",
       "1        M4A        North York                  Victoria Village\n",
       "2        M5A  Downtown Toronto         Regent Park, Harbourfront\n",
       "3        M6A        North York  Lawrence Manor, Lawrence Heights\n",
       "4        M7A      Queen's Park     Ontario Provincial Government"
      ],
      "text/html": "<div>\n<style scoped>\n    .dataframe tbody tr th:only-of-type {\n        vertical-align: middle;\n    }\n\n    .dataframe tbody tr th {\n        vertical-align: top;\n    }\n\n    .dataframe thead th {\n        text-align: right;\n    }\n</style>\n<table border=\"1\" class=\"dataframe\">\n  <thead>\n    <tr style=\"text-align: right;\">\n      <th></th>\n      <th>PostalCode</th>\n      <th>Borough</th>\n      <th>Neighborhood</th>\n    </tr>\n  </thead>\n  <tbody>\n    <tr>\n      <th>0</th>\n      <td>M3A</td>\n      <td>North York</td>\n      <td>Parkwoods</td>\n    </tr>\n    <tr>\n      <th>1</th>\n      <td>M4A</td>\n      <td>North York</td>\n      <td>Victoria Village</td>\n    </tr>\n    <tr>\n      <th>2</th>\n      <td>M5A</td>\n      <td>Downtown Toronto</td>\n      <td>Regent Park, Harbourfront</td>\n    </tr>\n    <tr>\n      <th>3</th>\n      <td>M6A</td>\n      <td>North York</td>\n      <td>Lawrence Manor, Lawrence Heights</td>\n    </tr>\n    <tr>\n      <th>4</th>\n      <td>M7A</td>\n      <td>Queen's Park</td>\n      <td>Ontario Provincial Government</td>\n    </tr>\n  </tbody>\n</table>\n</div>"
     },
     "metadata": {},
     "execution_count": 26
    }
   ],
   "source": [
    "#Reading DF from Part 1 (df_wk1)\n",
    "df_2 = pd.read_csv('df_wk1.csv')\n",
    "df_2.head()"
   ]
  },
  {
   "cell_type": "code",
   "execution_count": 27,
   "metadata": {},
   "outputs": [
    {
     "output_type": "stream",
     "name": "stdout",
     "text": [
      "(103, 3)\n"
     ]
    },
    {
     "output_type": "execute_result",
     "data": {
      "text/plain": [
       "       PostalCode     Borough                              Neighborhood\n",
       "count         103         103                                       103\n",
       "unique        103          15                                       103\n",
       "top           M9R  North York  Toronto Dominion Centre, Design Exchange\n",
       "freq            1          24                                         1"
      ],
      "text/html": "<div>\n<style scoped>\n    .dataframe tbody tr th:only-of-type {\n        vertical-align: middle;\n    }\n\n    .dataframe tbody tr th {\n        vertical-align: top;\n    }\n\n    .dataframe thead th {\n        text-align: right;\n    }\n</style>\n<table border=\"1\" class=\"dataframe\">\n  <thead>\n    <tr style=\"text-align: right;\">\n      <th></th>\n      <th>PostalCode</th>\n      <th>Borough</th>\n      <th>Neighborhood</th>\n    </tr>\n  </thead>\n  <tbody>\n    <tr>\n      <th>count</th>\n      <td>103</td>\n      <td>103</td>\n      <td>103</td>\n    </tr>\n    <tr>\n      <th>unique</th>\n      <td>103</td>\n      <td>15</td>\n      <td>103</td>\n    </tr>\n    <tr>\n      <th>top</th>\n      <td>M9R</td>\n      <td>North York</td>\n      <td>Toronto Dominion Centre, Design Exchange</td>\n    </tr>\n    <tr>\n      <th>freq</th>\n      <td>1</td>\n      <td>24</td>\n      <td>1</td>\n    </tr>\n  </tbody>\n</table>\n</div>"
     },
     "metadata": {},
     "execution_count": 27
    }
   ],
   "source": [
    "print(df_2.shape)\n",
    "df_2.describe()"
   ]
  },
  {
   "cell_type": "code",
   "execution_count": 28,
   "metadata": {},
   "outputs": [
    {
     "output_type": "execute_result",
     "data": {
      "text/plain": [
       "[43.709020000000066, -79.36348999999996]"
      ]
     },
     "metadata": {},
     "execution_count": 28
    }
   ],
   "source": [
    "def get_latilong(postal_code):\n",
    "    lati_long_coords = None\n",
    "    while(lati_long_coords is None):\n",
    "        g = geocoder.arcgis('{}, Toronto, Ontario'.format(postal_code))\n",
    "        lati_long_coords = g.latlng\n",
    "    return lati_long_coords\n",
    "    \n",
    "get_latilong('M4G')"
   ]
  },
  {
   "cell_type": "code",
   "execution_count": 20,
   "metadata": {},
   "outputs": [
    {
     "output_type": "stream",
     "name": "stdout",
     "text": [
      "[[43.75245000000007, -79.32990999999998], [43.73057000000006, -79.31305999999995], [43.65512000000007, -79.36263999999994], [43.72327000000007, -79.45041999999995], [43.66253000000006, -79.39187999999996], [43.662630000000036, -79.52830999999998], [43.811390000000074, -79.19661999999994], [43.74923000000007, -79.36185999999998], [43.70718000000005, -79.31191999999999], [43.65739000000008, -79.37803999999994], [43.70687000000004, -79.44811999999996], [43.65034000000003, -79.55361999999997], [43.78574000000003, -79.15874999999994], [43.72168000000005, -79.34351999999996], [43.68970000000007, -79.30681999999996], [43.65215000000006, -79.37586999999996], [43.69211000000007, -79.43035999999995], [43.64857000000006, -79.57824999999997], [43.765750000000025, -79.17469999999997], [43.67709000000008, -79.29546999999997], [43.64536000000004, -79.37305999999995], [43.68784000000005, -79.45045999999996], [43.76812000000007, -79.21760999999998], [43.709020000000066, -79.36348999999996], [43.65609000000006, -79.38492999999994], [43.668690000000026, -79.42070999999999], [43.76944000000003, -79.23891999999995], [43.80225000000007, -79.35557999999997], [43.75788000000006, -79.44846999999999], [43.70142000000004, -79.34904999999998], [43.64970000000005, -79.38257999999996], [43.665050000000065, -79.43890999999996], [43.74446000000006, -79.23116999999996], [43.780970000000025, -79.34780999999998], [43.76476000000008, -79.48797999999994], [43.68811000000005, -79.33417999999995], [43.64285000000007, -79.38075999999995], [43.64848000000006, -79.41773999999998], [43.725820000000056, -79.26460999999995], [43.781120000000044, -79.38059999999996], [43.73384000000004, -79.46827999999994], [43.68375000000003, -79.35511999999994], [43.64710000000008, -79.38152999999994], [43.639410000000055, -79.42675999999994], [43.71289000000007, -79.28505999999999], [43.756980000000055, -79.38059999999996], [43.720710000000054, -79.51700999999997], [43.667970000000025, -79.31466999999998], [43.64840000000004, -79.37913999999995], [43.71381000000008, -79.48873999999995], [43.75948000000005, -79.55706999999995], [43.72360000000003, -79.23495999999994], [43.79182000000003, -79.41371999999996], [43.73224000000005, -79.50177999999994], [43.66213000000005, -79.33496999999994], [43.73545000000007, -79.41915999999998], [43.695170000000076, -79.48396999999994], [43.733670000000075, -79.53768999999994], [43.695100000000025, -79.26465999999994], [43.76774000000006, -79.40727999999996], [43.75478000000004, -79.51958999999994], [43.72843000000006, -79.38712999999996], [43.71208000000007, -79.41847999999999], [43.67646000000008, -79.48271999999997], [43.705070000000035, -79.51803999999998], [43.75998000000004, -79.26939999999996], [43.747780000000034, -79.40032999999994], [43.71276000000006, -79.38850999999994], [43.69479000000007, -79.41439999999994], [43.659730000000025, -79.46280999999993], [43.696300000000065, -79.52925999999997], [43.75075000000004, -79.30053999999996], [43.77989000000008, -79.44677999999999], [43.71458000000007, -79.40667999999994], [43.674840000000074, -79.40451999999993], [43.64777000000004, -79.44988999999998], [43.648690000000045, -79.38543999999996], [43.68681000000004, -79.55727999999993], [43.794520000000034, -79.26707999999996], [43.703400000000045, -79.38658999999996], [43.663110000000074, -79.40179999999998], [43.649820000000034, -79.47547999999995], [43.784910000000025, -79.29721999999998], [43.690480000000036, -79.38317999999998], [43.65351000000004, -79.39721999999995], [43.817810000000065, -79.28043999999994], [43.68568000000005, -79.40236999999996], [43.640820000000076, -79.39817999999997], [43.60987000000006, -79.49808999999993], [43.744530000000054, -79.58623999999998], [43.80079000000006, -79.32161999999994], [43.68190000000004, -79.37828999999994], [43.648690000000045, -79.38543999999996], [43.601240000000075, -79.53878999999995], [43.71174000000008, -79.57940999999994], [43.83412000000004, -79.21667999999994], [43.667880000000025, -79.36648999999994], [43.64828000000006, -79.38145999999995], [43.65319000000005, -79.51112999999998], [43.66659000000004, -79.38132999999993], [43.648690000000045, -79.38543999999996], [43.632780000000025, -79.48944999999998], [43.62513000000007, -79.52680999999995]]\n"
     ]
    }
   ],
   "source": [
    "# Retrieving Postal Code Co-ordinates\n",
    "postal_codes = df_2['PostalCode'] \n",
    "coord = [get_latilong(postal_codes) for postal_codes in postal_codes.tolist()]\n",
    "print(coord)"
   ]
  },
  {
   "cell_type": "code",
   "execution_count": 44,
   "metadata": {},
   "outputs": [
    {
     "output_type": "error",
     "ename": "SyntaxError",
     "evalue": "invalid character in identifier (<ipython-input-44-7e22855d1c28>, line 3)",
     "traceback": [
      "\u001b[0;36m  File \u001b[0;32m\"<ipython-input-44-7e22855d1c28>\"\u001b[0;36m, line \u001b[0;32m3\u001b[0m\n\u001b[0;31m    df= pd.DataFrame(columns = column_names)\u001b[0m\n\u001b[0m         ^\u001b[0m\n\u001b[0;31mSyntaxError\u001b[0m\u001b[0;31m:\u001b[0m invalid character in identifier\n"
     ]
    }
   ],
   "source": [
    "# Adding Columns Latitude & Longitude# Adding Columns Latitude & Longitude\n",
    "column_names=['PostalCode','Borough','Neighborhood','Latitude','Longitude']\n",
    "df= pd.DataFrame(columns = column_names)\n",
    "\n",
    "df['PostalCode'] = df_2['PostalCode']\n",
    "df['Borough'] = df_2['Borough']\n",
    "df['Neighborhood'] = df_2['Neighborhood']\n",
    "\n",
    "df_coords = pd.DataFrame(coord, columns=['Latitude', 'Longitude'])\n",
    "df['Latitude'] = df_coords['Latitude']\n",
    "df['Longitude'] = df_coords['Longitude']\n",
    "\n",
    "print(df)\n",
    "df_2[df_2.PostalCode == 'M6A']\n",
    "df_2.to_csv('test.csv', index=False)"
   ]
  },
  {
   "cell_type": "code",
   "execution_count": null,
   "metadata": {},
   "outputs": [],
   "source": []
  }
 ]
}