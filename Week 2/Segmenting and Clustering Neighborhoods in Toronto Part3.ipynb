{
 "metadata": {
  "language_info": {
   "codemirror_mode": {
    "name": "ipython",
    "version": 3
   },
   "file_extension": ".py",
   "mimetype": "text/x-python",
   "name": "python",
   "nbconvert_exporter": "python",
   "pygments_lexer": "ipython3",
   "version": "3.8.5-final"
  },
  "orig_nbformat": 2,
  "kernelspec": {
   "name": "python3",
   "display_name": "Python 3.8.5 64-bit",
   "metadata": {
    "interpreter": {
     "hash": "aee8b7b246df8f9039afb4144a1f6fd8d2ca17a180786b69acc140d282b71a49"
    }
   }
  }
 },
 "nbformat": 4,
 "nbformat_minor": 2,
 "cells": [
  {
   "source": [
    "# Week 2  - Part 3\n",
    "## Segmenting and Clustering Neighbourhoods in Toronto\n",
    "### Foursquare API: Exploring Neighbourhoods of Cities in Toronto\n",
    "---\n",
    "\n",
    "Activities:\n",
    "\n",
    "* Explore and cluster the neighbourhoods in Toronto. You can decide to work with only boroughs that contain the word Toronto and then replicate the same analysis we did to the New York City data. It is up to you. \n",
    "\n",
    "* Just make sure:\n",
    "\n",
    "- to add enough Markdown cells to explain what you decided to do and to report any observations you make. \n",
    "- to generate maps to visualize your neighbourhoods and how they cluster together. \n",
    "- Once you are happy with your analysis, submit a link to the new Notebook on your Github repository. (3 marks)\n",
    "\n",
    "---"
   ],
   "cell_type": "markdown",
   "metadata": {}
  },
  {
   "cell_type": "code",
   "execution_count": 49,
   "metadata": {},
   "outputs": [
    {
     "output_type": "stream",
     "name": "stdout",
     "text": [
      "Success!\n"
     ]
    }
   ],
   "source": [
    "#Importing Libraries\n",
    "\n",
    "# Data handling\n",
    "import numpy as np \n",
    "\n",
    "# Data Analysis\n",
    "import pandas as pd \n",
    "pd.set_option('display.max_rows', 500)\n",
    "pd.set_option('display.max_columns', 500)\n",
    "pd.set_option('display.width', 1000)\n",
    "\n",
    "# JSON files\n",
    "import json \n",
    "\n",
    "# Address converted in latitude and longitude\n",
    "from geopy.geocoders import Nominatim \n",
    "\n",
    "#  JSON file converted to Pandas DataFrame\n",
    "from pandas.io.json import json_normalize \n",
    "\n",
    "# Matplotlib and Plotting\n",
    "import matplotlib.cm as cm\n",
    "import matplotlib.colors as colors\n",
    "\n",
    "# import k-means from clustering stage\n",
    "from sklearn.cluster import KMeans\n",
    "\n",
    "# map rendering library\n",
    "import folium \n",
    "\n",
    "#Requests\n",
    "import requests\n",
    "\n",
    "print('Success!')"
   ]
  },
  {
   "cell_type": "code",
   "execution_count": 50,
   "metadata": {},
   "outputs": [
    {
     "output_type": "stream",
     "name": "stdout",
     "text": [
      "(103, 5)\n"
     ]
    },
    {
     "output_type": "execute_result",
     "data": {
      "text/plain": [
       "  PostalCode           Borough                     Neighbourhood  Latitude  Longitude\n",
       "0        M3A        North York                         Parkwoods  43.75245  -79.32991\n",
       "1        M4A        North York                  Victoria Village  43.73057  -79.31306\n",
       "2        M5A  Downtown Toronto         Regent Park, Harbourfront  43.65512  -79.36264\n",
       "3        M6A        North York  Lawrence Manor, Lawrence Heights  43.72327  -79.45042\n",
       "4        M7A      Queen's Park     Ontario Provincial Government  43.66253  -79.39188"
      ],
      "text/html": "<div>\n<style scoped>\n    .dataframe tbody tr th:only-of-type {\n        vertical-align: middle;\n    }\n\n    .dataframe tbody tr th {\n        vertical-align: top;\n    }\n\n    .dataframe thead th {\n        text-align: right;\n    }\n</style>\n<table border=\"1\" class=\"dataframe\">\n  <thead>\n    <tr style=\"text-align: right;\">\n      <th></th>\n      <th>PostalCode</th>\n      <th>Borough</th>\n      <th>Neighbourhood</th>\n      <th>Latitude</th>\n      <th>Longitude</th>\n    </tr>\n  </thead>\n  <tbody>\n    <tr>\n      <th>0</th>\n      <td>M3A</td>\n      <td>North York</td>\n      <td>Parkwoods</td>\n      <td>43.75245</td>\n      <td>-79.32991</td>\n    </tr>\n    <tr>\n      <th>1</th>\n      <td>M4A</td>\n      <td>North York</td>\n      <td>Victoria Village</td>\n      <td>43.73057</td>\n      <td>-79.31306</td>\n    </tr>\n    <tr>\n      <th>2</th>\n      <td>M5A</td>\n      <td>Downtown Toronto</td>\n      <td>Regent Park, Harbourfront</td>\n      <td>43.65512</td>\n      <td>-79.36264</td>\n    </tr>\n    <tr>\n      <th>3</th>\n      <td>M6A</td>\n      <td>North York</td>\n      <td>Lawrence Manor, Lawrence Heights</td>\n      <td>43.72327</td>\n      <td>-79.45042</td>\n    </tr>\n    <tr>\n      <th>4</th>\n      <td>M7A</td>\n      <td>Queen's Park</td>\n      <td>Ontario Provincial Government</td>\n      <td>43.66253</td>\n      <td>-79.39188</td>\n    </tr>\n  </tbody>\n</table>\n</div>"
     },
     "metadata": {},
     "execution_count": 50
    }
   ],
   "source": [
    "# Loading las DataFrame Version df_P2, from Part 2\n",
    "df = pd.read_csv('df_P2.csv')\n",
    "print(df.shape)\n",
    "df.head()"
   ]
  },
  {
   "source": [
    "# Exploring & Clustering Neighbourhoods in Toronto\n",
    "\n",
    "address = 'Toronto, ON'\n",
    "\n",
    "geolocator = Nominatim(user_agent=\"carol_agent\") #User_Agent is an http request header that is sent with each request.\n",
    "location = geolocator.geocode(address)\n",
    "latitude_toronto = location.latitude\n",
    "longitude_toronto = location.longitude\n",
    "print('Coordinate of Toronto are {}, {}.'.format(latitude_toronto, longitude_toronto))"
   ],
   "cell_type": "code",
   "metadata": {},
   "execution_count": 51,
   "outputs": [
    {
     "output_type": "stream",
     "name": "stdout",
     "text": [
      "Coordinate of Toronto are 43.6534817, -79.3839347.\n"
     ]
    }
   ]
  },
  {
   "cell_type": "code",
   "execution_count": 52,
   "metadata": {},
   "outputs": [
    {
     "output_type": "stream",
     "name": "stdout",
     "text": [
      "(39, 5)\n"
     ]
    },
    {
     "output_type": "execute_result",
     "data": {
      "text/plain": [
       "  PostalCode           Borough              Neighbourhood  Latitude  Longitude\n",
       "0        M5A  Downtown Toronto  Regent Park, Harbourfront  43.65512  -79.36264\n",
       "1        M5B  Downtown Toronto   Garden District, Ryerson  43.65739  -79.37804\n",
       "2        M5C  Downtown Toronto             St. James Town  43.65215  -79.37587\n",
       "3        M4E      East Toronto                The Beaches  43.67709  -79.29547\n",
       "4        M5E  Downtown Toronto                Berczy Park  43.64536  -79.37306"
      ],
      "text/html": "<div>\n<style scoped>\n    .dataframe tbody tr th:only-of-type {\n        vertical-align: middle;\n    }\n\n    .dataframe tbody tr th {\n        vertical-align: top;\n    }\n\n    .dataframe thead th {\n        text-align: right;\n    }\n</style>\n<table border=\"1\" class=\"dataframe\">\n  <thead>\n    <tr style=\"text-align: right;\">\n      <th></th>\n      <th>PostalCode</th>\n      <th>Borough</th>\n      <th>Neighbourhood</th>\n      <th>Latitude</th>\n      <th>Longitude</th>\n    </tr>\n  </thead>\n  <tbody>\n    <tr>\n      <th>0</th>\n      <td>M5A</td>\n      <td>Downtown Toronto</td>\n      <td>Regent Park, Harbourfront</td>\n      <td>43.65512</td>\n      <td>-79.36264</td>\n    </tr>\n    <tr>\n      <th>1</th>\n      <td>M5B</td>\n      <td>Downtown Toronto</td>\n      <td>Garden District, Ryerson</td>\n      <td>43.65739</td>\n      <td>-79.37804</td>\n    </tr>\n    <tr>\n      <th>2</th>\n      <td>M5C</td>\n      <td>Downtown Toronto</td>\n      <td>St. James Town</td>\n      <td>43.65215</td>\n      <td>-79.37587</td>\n    </tr>\n    <tr>\n      <th>3</th>\n      <td>M4E</td>\n      <td>East Toronto</td>\n      <td>The Beaches</td>\n      <td>43.67709</td>\n      <td>-79.29547</td>\n    </tr>\n    <tr>\n      <th>4</th>\n      <td>M5E</td>\n      <td>Downtown Toronto</td>\n      <td>Berczy Park</td>\n      <td>43.64536</td>\n      <td>-79.37306</td>\n    </tr>\n  </tbody>\n</table>\n</div>"
     },
     "metadata": {},
     "execution_count": 52
    }
   ],
   "source": [
    "# Area MAP Toronto\n",
    "Toronto_map = folium.Map(location=[latitude_toronto, longitude_toronto], zoom_start=10)\n",
    "\n",
    "df= df[df['Borough'].str.contains(\"Toronto\")].reset_index(drop=True)\n",
    "print(df.shape)\n",
    "df.head()\n"
   ]
  },
  {
   "cell_type": "code",
   "execution_count": 55,
   "metadata": {},
   "outputs": [],
   "source": [
    "# Adding Markers\n",
    "for lat, lng, borough, Neighbourhood in zip(df['Latitude'], df['Longitude'], df['Borough'], df['Neighbourhood']):\n",
    "    label = '{}, {}'.format(Neighbourhood, borough)\n",
    "    label = folium.Popup(label, parse_html=True)\n",
    "    folium.CircleMarker(\n",
    "        [lat, lng],\n",
    "        radius=5,\n",
    "        popup=label,\n",
    "        color='pink',\n",
    "        fill=True,\n",
    "        fill_color='black',\n",
    "        fill_opacity=0.7,\n",
    "        parse_html=False).add_to(Toronto_map)  \n",
    "    \n",
    "#Toronto_map"
   ]
  },
  {
   "cell_type": "code",
   "execution_count": 56,
   "metadata": {},
   "outputs": [
    {
     "output_type": "stream",
     "name": "stdout",
     "text": [
      "Your credentails:\nCLIENT_ID: GSRJY4CTWD1XFQHOIW5HBHXFJ3DUQ3EJ04NZIL3XWQ22WC35\nCLIENT_SECRET:0F0GA4EYWJPYSVVXAH01JS0LQBKP52VPQMFEWVSDBOJGOOKW\n"
     ]
    }
   ],
   "source": [
    "CLIENT_ID = 'GSRJY4CTWD1XFQHOIW5HBHXFJ3DUQ3EJ04NZIL3XWQ22WC35' # your Foursquare ID\n",
    "CLIENT_SECRET = '0F0GA4EYWJPYSVVXAH01JS0LQBKP52VPQMFEWVSDBOJGOOKW' # your Foursquare Secret\n",
    "VERSION = '20200610' # Foursquare API version\n",
    "\n",
    "print('Your credentails:')\n",
    "print('CLIENT_ID: ' + CLIENT_ID)\n",
    "print('CLIENT_SECRET:' + CLIENT_SECRET)\n",
    "\n",
    "radius=500\n",
    "LIMIT=30"
   ]
  },
  {
   "cell_type": "code",
   "execution_count": 57,
   "metadata": {},
   "outputs": [],
   "source": [
    "def getNearbyVenues(names, latitudes, longitudes, radius=500):\n",
    "    \n",
    "    venues_list=[]\n",
    "    for name, lat, lng in zip(names, latitudes, longitudes):\n",
    "        print(name)\n",
    "            \n",
    "        # API request URL\n",
    "        url = 'https://api.foursquare.com/v2/venues/explore?&client_id={}&client_secret={}&v={}&ll={},{}&radius={}&limit={}'.format(\n",
    "            CLIENT_ID, \n",
    "            CLIENT_SECRET, \n",
    "            VERSION, \n",
    "            lat, \n",
    "            lng, \n",
    "            radius, \n",
    "            LIMIT)\n",
    "            \n",
    "        # GET request\n",
    "        results = requests.get(url).json()[\"response\"]['groups'][0]['items']\n",
    "        \n",
    "        # return only relevant information for each nearby venue\n",
    "        venues_list.append([(\n",
    "            name, \n",
    "            lat, \n",
    "            lng, \n",
    "            v['venue']['name'], \n",
    "            v['venue']['location']['lat'], \n",
    "            v['venue']['location']['lng'],  \n",
    "            v['venue']['categories'][0]['name']) for v in results])\n",
    "\n",
    "    nearby_venues = pd.DataFrame([item for venue_list in venues_list for item in venue_list])\n",
    "    nearby_venues.columns = ['Neighbourhood', \n",
    "                  'Neighbourhood Latitude', \n",
    "                  'Neighbourhood Longitude', \n",
    "                  'Venue', \n",
    "                  'Venue Latitude', \n",
    "                  'Venue Longitude', \n",
    "                  'Venue Category']\n",
    "    \n",
    "    return(nearby_venues)"
   ]
  },
  {
   "cell_type": "code",
   "execution_count": 58,
   "metadata": {},
   "outputs": [
    {
     "output_type": "stream",
     "name": "stdout",
     "text": [
      "Regent Park, Harbourfront\n",
      "Garden District, Ryerson\n",
      "St. James Town\n",
      "The Beaches\n",
      "Berczy Park\n",
      "Central Bay Street\n",
      "Christie\n",
      "Richmond, Adelaide, King\n",
      "Dufferin, Dovercourt Village\n",
      "The Danforth  East\n",
      "Harbourfront East, Union Station, Toronto Islands\n",
      "Little Portugal, Trinity\n",
      "The Danforth West, Riverdale\n",
      "Toronto Dominion Centre, Design Exchange\n",
      "Brockton, Parkdale Village, Exhibition Place\n",
      "India Bazaar, The Beaches West\n",
      "Commerce Court, Victoria Hotel\n",
      "Studio District\n",
      "Lawrence Park\n",
      "Roselawn\n",
      "Davisville North\n",
      "Forest Hill North & West\n",
      "High Park, The Junction South\n",
      "North Toronto West\n",
      "The Annex, North Midtown, Yorkville\n",
      "Parkdale, Roncesvalles\n",
      "Davisville\n",
      "University of Toronto, Harbord\n",
      "Runnymede, Swansea\n",
      "Moore Park, Summerhill East\n",
      "Kensington Market, Chinatown, Grange Park\n",
      "Summerhill West, Rathnelly, South Hill, Forest Hill SE, Deer Park\n",
      "CN Tower, King and Spadina, Railway Lands, Harbourfront West, Bathurst Quay, South Niagara, Island airport\n",
      "Rosedale\n",
      "Enclave of M5E\n",
      "St. James Town, Cabbagetown\n",
      "First Canadian Place, Underground city\n",
      "Church and Wellesley\n",
      "Enclave of M4L\n"
     ]
    }
   ],
   "source": [
    "toronto_venues = getNearbyVenues(names=df['Neighbourhood'], latitudes=df['Latitude'],longitudes=df['Longitude'])"
   ]
  },
  {
   "cell_type": "code",
   "execution_count": 59,
   "metadata": {},
   "outputs": [
    {
     "output_type": "stream",
     "name": "stdout",
     "text": [
      "(783, 7)\n"
     ]
    },
    {
     "output_type": "execute_result",
     "data": {
      "text/plain": [
       "               Neighbourhood  Neighbourhood Latitude  Neighbourhood Longitude                   Venue  Venue Latitude  Venue Longitude    Venue Category\n",
       "0  Regent Park, Harbourfront                43.65512                -79.36264           Tandem Coffee       43.653559       -79.361809       Coffee Shop\n",
       "1  Regent Park, Harbourfront                43.65512                -79.36264        Roselle Desserts       43.653447       -79.362017            Bakery\n",
       "2  Regent Park, Harbourfront                43.65512                -79.36264        Souvlaki Express       43.655584       -79.364438  Greek Restaurant\n",
       "3  Regent Park, Harbourfront                43.65512                -79.36264         Berkeley Church       43.655123       -79.365873       Event Space\n",
       "4  Regent Park, Harbourfront                43.65512                -79.36264  Figs Breakfast & Lunch       43.655675       -79.364503    Breakfast Spot"
      ],
      "text/html": "<div>\n<style scoped>\n    .dataframe tbody tr th:only-of-type {\n        vertical-align: middle;\n    }\n\n    .dataframe tbody tr th {\n        vertical-align: top;\n    }\n\n    .dataframe thead th {\n        text-align: right;\n    }\n</style>\n<table border=\"1\" class=\"dataframe\">\n  <thead>\n    <tr style=\"text-align: right;\">\n      <th></th>\n      <th>Neighbourhood</th>\n      <th>Neighbourhood Latitude</th>\n      <th>Neighbourhood Longitude</th>\n      <th>Venue</th>\n      <th>Venue Latitude</th>\n      <th>Venue Longitude</th>\n      <th>Venue Category</th>\n    </tr>\n  </thead>\n  <tbody>\n    <tr>\n      <th>0</th>\n      <td>Regent Park, Harbourfront</td>\n      <td>43.65512</td>\n      <td>-79.36264</td>\n      <td>Tandem Coffee</td>\n      <td>43.653559</td>\n      <td>-79.361809</td>\n      <td>Coffee Shop</td>\n    </tr>\n    <tr>\n      <th>1</th>\n      <td>Regent Park, Harbourfront</td>\n      <td>43.65512</td>\n      <td>-79.36264</td>\n      <td>Roselle Desserts</td>\n      <td>43.653447</td>\n      <td>-79.362017</td>\n      <td>Bakery</td>\n    </tr>\n    <tr>\n      <th>2</th>\n      <td>Regent Park, Harbourfront</td>\n      <td>43.65512</td>\n      <td>-79.36264</td>\n      <td>Souvlaki Express</td>\n      <td>43.655584</td>\n      <td>-79.364438</td>\n      <td>Greek Restaurant</td>\n    </tr>\n    <tr>\n      <th>3</th>\n      <td>Regent Park, Harbourfront</td>\n      <td>43.65512</td>\n      <td>-79.36264</td>\n      <td>Berkeley Church</td>\n      <td>43.655123</td>\n      <td>-79.365873</td>\n      <td>Event Space</td>\n    </tr>\n    <tr>\n      <th>4</th>\n      <td>Regent Park, Harbourfront</td>\n      <td>43.65512</td>\n      <td>-79.36264</td>\n      <td>Figs Breakfast &amp; Lunch</td>\n      <td>43.655675</td>\n      <td>-79.364503</td>\n      <td>Breakfast Spot</td>\n    </tr>\n  </tbody>\n</table>\n</div>"
     },
     "metadata": {},
     "execution_count": 59
    }
   ],
   "source": [
    "print(toronto_venues.shape)\n",
    "toronto_venues.head()"
   ]
  },
  {
   "cell_type": "code",
   "execution_count": 60,
   "metadata": {},
   "outputs": [
    {
     "output_type": "execute_result",
     "data": {
      "text/plain": [
       "                                                    Neighbourhood Latitude  Neighbourhood Longitude  Venue  Venue Latitude  Venue Longitude  Venue Category\n",
       "Neighbourhood                                                                                                                                              \n",
       "Berczy Park                                                             30                       30     30              30               30              30\n",
       "Brockton, Parkdale Village, Exhibition Place                            30                       30     30              30               30              30\n",
       "CN Tower, King and Spadina, Railway Lands, Harb...                      30                       30     30              30               30              30\n",
       "Central Bay Street                                                      30                       30     30              30               30              30\n",
       "Christie                                                                 9                        9      9               9                9               9\n",
       "Church and Wellesley                                                    30                       30     30              30               30              30\n",
       "Commerce Court, Victoria Hotel                                          30                       30     30              30               30              30\n",
       "Davisville                                                              22                       22     22              22               22              22\n",
       "Davisville North                                                        10                       10     10              10               10              10\n",
       "Dufferin, Dovercourt Village                                            18                       18     18              18               18              18\n",
       "Enclave of M4L                                                          30                       30     30              30               30              30\n",
       "Enclave of M5E                                                          30                       30     30              30               30              30\n",
       "First Canadian Place, Underground city                                  30                       30     30              30               30              30\n",
       "Forest Hill North & West                                                 2                        2      2               2                2               2\n",
       "Garden District, Ryerson                                                30                       30     30              30               30              30\n",
       "Harbourfront East, Union Station, Toronto Islands                       30                       30     30              30               30              30\n",
       "High Park, The Junction South                                            2                        2      2               2                2               2\n",
       "India Bazaar, The Beaches West                                          17                       17     17              17               17              17\n",
       "Kensington Market, Chinatown, Grange Park                               30                       30     30              30               30              30\n",
       "Lawrence Park                                                            3                        3      3               3                3               3\n",
       "Little Portugal, Trinity                                                30                       30     30              30               30              30\n",
       "Moore Park, Summerhill East                                              2                        2      2               2                2               2\n",
       "North Toronto West                                                       4                        4      4               4                4               4\n",
       "Parkdale, Roncesvalles                                                  30                       30     30              30               30              30\n",
       "Regent Park, Harbourfront                                               21                       21     21              21               21              21\n",
       "Richmond, Adelaide, King                                                30                       30     30              30               30              30\n",
       "Rosedale                                                                 4                        4      4               4                4               4\n",
       "Runnymede, Swansea                                                      30                       30     30              30               30              30\n",
       "St. James Town                                                          30                       30     30              30               30              30\n",
       "St. James Town, Cabbagetown                                             30                       30     30              30               30              30\n",
       "Studio District                                                         30                       30     30              30               30              30\n",
       "Summerhill West, Rathnelly, South Hill, Forest ...                       4                        4      4               4                4               4\n",
       "The Annex, North Midtown, Yorkville                                     21                       21     21              21               21              21\n",
       "The Beaches                                                              4                        4      4               4                4               4\n",
       "The Danforth  East                                                       2                        2      2               2                2               2\n",
       "The Danforth West, Riverdale                                             8                        8      8               8                8               8\n",
       "Toronto Dominion Centre, Design Exchange                                30                       30     30              30               30              30\n",
       "University of Toronto, Harbord                                          30                       30     30              30               30              30"
      ],
      "text/html": "<div>\n<style scoped>\n    .dataframe tbody tr th:only-of-type {\n        vertical-align: middle;\n    }\n\n    .dataframe tbody tr th {\n        vertical-align: top;\n    }\n\n    .dataframe thead th {\n        text-align: right;\n    }\n</style>\n<table border=\"1\" class=\"dataframe\">\n  <thead>\n    <tr style=\"text-align: right;\">\n      <th></th>\n      <th>Neighbourhood Latitude</th>\n      <th>Neighbourhood Longitude</th>\n      <th>Venue</th>\n      <th>Venue Latitude</th>\n      <th>Venue Longitude</th>\n      <th>Venue Category</th>\n    </tr>\n    <tr>\n      <th>Neighbourhood</th>\n      <th></th>\n      <th></th>\n      <th></th>\n      <th></th>\n      <th></th>\n      <th></th>\n    </tr>\n  </thead>\n  <tbody>\n    <tr>\n      <th>Berczy Park</th>\n      <td>30</td>\n      <td>30</td>\n      <td>30</td>\n      <td>30</td>\n      <td>30</td>\n      <td>30</td>\n    </tr>\n    <tr>\n      <th>Brockton, Parkdale Village, Exhibition Place</th>\n      <td>30</td>\n      <td>30</td>\n      <td>30</td>\n      <td>30</td>\n      <td>30</td>\n      <td>30</td>\n    </tr>\n    <tr>\n      <th>CN Tower, King and Spadina, Railway Lands, Harbourfront West, Bathurst Quay, South Niagara, Island airport</th>\n      <td>30</td>\n      <td>30</td>\n      <td>30</td>\n      <td>30</td>\n      <td>30</td>\n      <td>30</td>\n    </tr>\n    <tr>\n      <th>Central Bay Street</th>\n      <td>30</td>\n      <td>30</td>\n      <td>30</td>\n      <td>30</td>\n      <td>30</td>\n      <td>30</td>\n    </tr>\n    <tr>\n      <th>Christie</th>\n      <td>9</td>\n      <td>9</td>\n      <td>9</td>\n      <td>9</td>\n      <td>9</td>\n      <td>9</td>\n    </tr>\n    <tr>\n      <th>Church and Wellesley</th>\n      <td>30</td>\n      <td>30</td>\n      <td>30</td>\n      <td>30</td>\n      <td>30</td>\n      <td>30</td>\n    </tr>\n    <tr>\n      <th>Commerce Court, Victoria Hotel</th>\n      <td>30</td>\n      <td>30</td>\n      <td>30</td>\n      <td>30</td>\n      <td>30</td>\n      <td>30</td>\n    </tr>\n    <tr>\n      <th>Davisville</th>\n      <td>22</td>\n      <td>22</td>\n      <td>22</td>\n      <td>22</td>\n      <td>22</td>\n      <td>22</td>\n    </tr>\n    <tr>\n      <th>Davisville North</th>\n      <td>10</td>\n      <td>10</td>\n      <td>10</td>\n      <td>10</td>\n      <td>10</td>\n      <td>10</td>\n    </tr>\n    <tr>\n      <th>Dufferin, Dovercourt Village</th>\n      <td>18</td>\n      <td>18</td>\n      <td>18</td>\n      <td>18</td>\n      <td>18</td>\n      <td>18</td>\n    </tr>\n    <tr>\n      <th>Enclave of M4L</th>\n      <td>30</td>\n      <td>30</td>\n      <td>30</td>\n      <td>30</td>\n      <td>30</td>\n      <td>30</td>\n    </tr>\n    <tr>\n      <th>Enclave of M5E</th>\n      <td>30</td>\n      <td>30</td>\n      <td>30</td>\n      <td>30</td>\n      <td>30</td>\n      <td>30</td>\n    </tr>\n    <tr>\n      <th>First Canadian Place, Underground city</th>\n      <td>30</td>\n      <td>30</td>\n      <td>30</td>\n      <td>30</td>\n      <td>30</td>\n      <td>30</td>\n    </tr>\n    <tr>\n      <th>Forest Hill North &amp; West</th>\n      <td>2</td>\n      <td>2</td>\n      <td>2</td>\n      <td>2</td>\n      <td>2</td>\n      <td>2</td>\n    </tr>\n    <tr>\n      <th>Garden District, Ryerson</th>\n      <td>30</td>\n      <td>30</td>\n      <td>30</td>\n      <td>30</td>\n      <td>30</td>\n      <td>30</td>\n    </tr>\n    <tr>\n      <th>Harbourfront East, Union Station, Toronto Islands</th>\n      <td>30</td>\n      <td>30</td>\n      <td>30</td>\n      <td>30</td>\n      <td>30</td>\n      <td>30</td>\n    </tr>\n    <tr>\n      <th>High Park, The Junction South</th>\n      <td>2</td>\n      <td>2</td>\n      <td>2</td>\n      <td>2</td>\n      <td>2</td>\n      <td>2</td>\n    </tr>\n    <tr>\n      <th>India Bazaar, The Beaches West</th>\n      <td>17</td>\n      <td>17</td>\n      <td>17</td>\n      <td>17</td>\n      <td>17</td>\n      <td>17</td>\n    </tr>\n    <tr>\n      <th>Kensington Market, Chinatown, Grange Park</th>\n      <td>30</td>\n      <td>30</td>\n      <td>30</td>\n      <td>30</td>\n      <td>30</td>\n      <td>30</td>\n    </tr>\n    <tr>\n      <th>Lawrence Park</th>\n      <td>3</td>\n      <td>3</td>\n      <td>3</td>\n      <td>3</td>\n      <td>3</td>\n      <td>3</td>\n    </tr>\n    <tr>\n      <th>Little Portugal, Trinity</th>\n      <td>30</td>\n      <td>30</td>\n      <td>30</td>\n      <td>30</td>\n      <td>30</td>\n      <td>30</td>\n    </tr>\n    <tr>\n      <th>Moore Park, Summerhill East</th>\n      <td>2</td>\n      <td>2</td>\n      <td>2</td>\n      <td>2</td>\n      <td>2</td>\n      <td>2</td>\n    </tr>\n    <tr>\n      <th>North Toronto West</th>\n      <td>4</td>\n      <td>4</td>\n      <td>4</td>\n      <td>4</td>\n      <td>4</td>\n      <td>4</td>\n    </tr>\n    <tr>\n      <th>Parkdale, Roncesvalles</th>\n      <td>30</td>\n      <td>30</td>\n      <td>30</td>\n      <td>30</td>\n      <td>30</td>\n      <td>30</td>\n    </tr>\n    <tr>\n      <th>Regent Park, Harbourfront</th>\n      <td>21</td>\n      <td>21</td>\n      <td>21</td>\n      <td>21</td>\n      <td>21</td>\n      <td>21</td>\n    </tr>\n    <tr>\n      <th>Richmond, Adelaide, King</th>\n      <td>30</td>\n      <td>30</td>\n      <td>30</td>\n      <td>30</td>\n      <td>30</td>\n      <td>30</td>\n    </tr>\n    <tr>\n      <th>Rosedale</th>\n      <td>4</td>\n      <td>4</td>\n      <td>4</td>\n      <td>4</td>\n      <td>4</td>\n      <td>4</td>\n    </tr>\n    <tr>\n      <th>Runnymede, Swansea</th>\n      <td>30</td>\n      <td>30</td>\n      <td>30</td>\n      <td>30</td>\n      <td>30</td>\n      <td>30</td>\n    </tr>\n    <tr>\n      <th>St. James Town</th>\n      <td>30</td>\n      <td>30</td>\n      <td>30</td>\n      <td>30</td>\n      <td>30</td>\n      <td>30</td>\n    </tr>\n    <tr>\n      <th>St. James Town, Cabbagetown</th>\n      <td>30</td>\n      <td>30</td>\n      <td>30</td>\n      <td>30</td>\n      <td>30</td>\n      <td>30</td>\n    </tr>\n    <tr>\n      <th>Studio District</th>\n      <td>30</td>\n      <td>30</td>\n      <td>30</td>\n      <td>30</td>\n      <td>30</td>\n      <td>30</td>\n    </tr>\n    <tr>\n      <th>Summerhill West, Rathnelly, South Hill, Forest Hill SE, Deer Park</th>\n      <td>4</td>\n      <td>4</td>\n      <td>4</td>\n      <td>4</td>\n      <td>4</td>\n      <td>4</td>\n    </tr>\n    <tr>\n      <th>The Annex, North Midtown, Yorkville</th>\n      <td>21</td>\n      <td>21</td>\n      <td>21</td>\n      <td>21</td>\n      <td>21</td>\n      <td>21</td>\n    </tr>\n    <tr>\n      <th>The Beaches</th>\n      <td>4</td>\n      <td>4</td>\n      <td>4</td>\n      <td>4</td>\n      <td>4</td>\n      <td>4</td>\n    </tr>\n    <tr>\n      <th>The Danforth  East</th>\n      <td>2</td>\n      <td>2</td>\n      <td>2</td>\n      <td>2</td>\n      <td>2</td>\n      <td>2</td>\n    </tr>\n    <tr>\n      <th>The Danforth West, Riverdale</th>\n      <td>8</td>\n      <td>8</td>\n      <td>8</td>\n      <td>8</td>\n      <td>8</td>\n      <td>8</td>\n    </tr>\n    <tr>\n      <th>Toronto Dominion Centre, Design Exchange</th>\n      <td>30</td>\n      <td>30</td>\n      <td>30</td>\n      <td>30</td>\n      <td>30</td>\n      <td>30</td>\n    </tr>\n    <tr>\n      <th>University of Toronto, Harbord</th>\n      <td>30</td>\n      <td>30</td>\n      <td>30</td>\n      <td>30</td>\n      <td>30</td>\n      <td>30</td>\n    </tr>\n  </tbody>\n</table>\n</div>"
     },
     "metadata": {},
     "execution_count": 60
    }
   ],
   "source": [
    "toronto_venues.groupby('Neighbourhood').count()"
   ]
  },
  {
   "cell_type": "code",
   "execution_count": 61,
   "metadata": {},
   "outputs": [
    {
     "output_type": "stream",
     "name": "stdout",
     "text": [
      "There are 166 uniques categories.\n"
     ]
    }
   ],
   "source": [
    "print('There are {} uniques categories.'.format(len(toronto_venues['Venue Category'].unique())))"
   ]
  },
  {
   "cell_type": "code",
   "execution_count": 43,
   "metadata": {},
   "outputs": [
    {
     "output_type": "execute_result",
     "data": {
      "text/plain": [
       "ts & Crafts Store  Asian Restaurant  Athletics & Sports  BBQ Joint  Baby Store  Bagel Shop  Bakery  Bank  Bar  Basketball Stadium  Beer Bar  Beer Store  Belgian Restaurant  Bike Trail  Bistro  Board Shop  Boat or Ferry  Bookstore  Boutique  Brazilian Restaurant  Breakfast Spot  Brewery  Bubble Tea Shop  Burger Joint  Burrito Place  Bus Line  Business Service  Butcher  Cable Car  Café  Camera Store  Candy Store  Caribbean Restaurant  Cheese Shop  Chinese Restaurant  Chocolate Shop  Climbing Gym  Clothing Store  Cocktail Bar  Coffee Shop  College Arts Building  College Gym  College Rec Center  Colombian Restaurant  Comfort Food Restaurant  Comic Shop  Concert Hall  Construction & Landscaping  Convenience Store  Cosmetics Shop  Creperie  Cuban Restaurant  Cupcake Shop  Dance Studio  Deli / Bodega  Department Store  Dessert Shop  Diner  \\\n",
       "0  Regent Park, Harbourfront                  0               0                  0                    0             0         0            0                    0                 0                   0          0           0           0       0     0    0                   0         0           0                   0           0       0           0              0          0         0                     0               0        0                0             0              0         0                 0        0          0     0             0            0                     0            0                   0               0             0               0             0            1                      0            0                   0                     0                        0           0             0                           0                  0               0         0                 0             0             0              0                 0             0      0   \n",
       "1  Regent Park, Harbourfront                  0               0                  0                    0             0         0            0                    0                 0                   0          0           0           0       1     0    0                   0         0           0                   0           0       0           0              0          0         0                     0               0        0                0             0              0         0                 0        0          0     0             0            0                     0            0                   0               0             0               0             0            0                      0            0                   0                     0                        0           0             0                           0                  0               0         0                 0             0             0              0                 0             0      0   \n",
       "2  Regent Park, Harbourfront                  0               0                  0                    0             0         0            0                    0                 0                   0          0           0           0       0     0    0                   0         0           0                   0           0       0           0              0          0         0                     0               0        0                0             0              0         0                 0        0          0     0             0            0                     0            0                   0               0             0               0             0            0                      0            0                   0                     0                        0           0             0                           0                  0               0         0                 0             0             0              0                 0             0      0   \n",
       "3  Regent Park, Harbourfront                  0               0                  0                    0             0         0            0                    0                 0                   0          0           0           0       0     0    0                   0         0           0                   0           0       0           0              0          0         0                     0               0        0                0             0              0         0                 0        0          0     0             0            0                     0            0                   0               0             0               0             0            0                      0            0                   0                     0                        0           0             0                           0                  0               0         0                 0             0             0              0                 0             0      0   \n",
       "4  Regent Park, Harbourfront                  0               0                  0                    0             0         0            0                    0                 0                   0          0           0           0       0     0    0                   0         0           0                   0           0       0           0              0          0         0                     0               1        0                0             0              0         0                 0        0          0     0             0            0                     0            0                   0               0             0               0             0            0                      0            0                   0                     0                        0           0             0                           0                  0               0         0                 0             0             0              0                 0             0      0   \n",
       "\n",
       "   Discount Store  Distribution Center  Dog Run  Eastern European Restaurant  Electronics Store  Elementary School  Escape Room  Ethiopian Restaurant  Event Space  Falafel Restaurant  Farm  Farmers Market  Fast Food Restaurant  Fish & Chips Shop  Fish Market  Flea Market  Flower Shop  Food  Food & Drink Shop  Food Court  Food Truck  French Restaurant  Fried Chicken Joint  Frozen Yogurt Shop  Furniture / Home Store  Gaming Cafe  Gas Station  Gastropub  Gay Bar  German Restaurant  Gift Shop  Gluten-free Restaurant  Gourmet Shop  Greek Restaurant  Grocery Store  Gym  Gym / Fitness Center  Gym Pool  Hawaiian Restaurant  Health & Beauty Service  Health Food Store  Historic Site  History Museum  Hobby Shop  Home Service  Hookah Bar  Hotel  Hotel Bar  IT Services  Ice Cream Shop  Indian Restaurant  Intersection  Irish Pub  Italian Restaurant  Japanese Restaurant  Jazz Club  Jewelry Store  Juice Bar  Kitchen Supply Store  Korean Restaurant  Lake  Latin American Restaurant  \\\n",
       "0               0                    0        0                            0                  0                  0            0                     0            0                   0     0               0                     0                  0            0            0            0     0                  0           0           0                  0                    0                   0                       0            0            0          0        0                  0          0                       0             0                 0              0    0                     0         0                    0                        0                  0              0               0           0             0           0      0          0            0               0                  0             0          0                   0                    0          0              0          0                     0                  0     0                          0   \n",
       "1               0                    0        0                            0                  0                  0            0                     0            0                   0     0               0                     0                  0            0            0            0     0                  0           0           0                  0                    0                   0                       0            0            0          0        0                  0          0                       0             0                 0              0    0                     0         0                    0                        0                  0              0               0           0             0           0      0          0            0               0                  0             0          0                   0                    0          0              0          0                     0                  0     0                          0   \n",
       "2               0                    0        0                            0                  0                  0            0                     0            0                   0     0               0                     0                  0            0            0            0     0                  0           0           0                  0                    0                   0                       0            0            0          0        0                  0          0                       0             0                 1              0    0                     0         0                    0                        0                  0              0               0           0             0           0      0          0            0               0                  0             0          0                   0                    0          0              0          0                     0                  0     0                          0   \n",
       "3               0                    0        0                            0                  0                  0            0                     0            1                   0     0               0                     0                  0            0            0            0     0                  0           0           0                  0                    0                   0                       0            0            0          0        0                  0          0                       0             0                 0              0    0                     0         0                    0                        0                  0              0               0           0             0           0      0          0            0               0                  0             0          0                   0                    0          0              0          0                     0                  0     0                          0   \n",
       "4               0                    0        0                            0                  0                  0            0                     0            0                   0     0               0                     0                  0            0            0            0     0                  0           0           0                  0                    0                   0                       0            0            0          0        0                  0          0                       0             0                 0              0    0                     0         0                    0                        0                  0              0               0           0             0           0      0          0            0               0                  0             0          0                   0                    0          0              0          0                     0                  0     0                          0   \n",
       "\n",
       "   Light Rail Station  Lingerie Store  Liquor Store  Lounge  Mac & Cheese Joint  Malay Restaurant  Market  Martial Arts School  Mediterranean Restaurant  Men's Store  Mexican Restaurant  Middle Eastern Restaurant  Miscellaneous Shop  Mobile Phone Shop  Modern European Restaurant  Molecular Gastronomy Restaurant  Monument / Landmark  Moroccan Restaurant  Movie Theater  Moving Target  Museum  Music Venue  Neighborhood  New American Restaurant  Nightclub  Noodle House  Opera House  Optical Shop  Organic Grocery  Other Nightlife  Outdoor Sculpture  Park  Performing Arts Venue  Peruvian Restaurant  Pet Store  Pharmacy  Pie Shop  Pilates Studio  Pizza Place  Playground  Plaza  Post Office  Poutine Place  Pub  Ramen Restaurant  Record Shop  Restaurant  Sake Bar  Salad Place  Salon / Barbershop  Sandwich Place  Seafood Restaurant  Shoe Store  Shopping Mall  Skating Rink  Smoke Shop  Smoothie Shop  Snack Place  Soccer Field  Soup Place  Souvlaki Shop  Spa  Speakeasy  Sporting Goods Shop  \\\n",
       "0                   0               0             0       0                   0                 0       0                    0                         0            0                   0                          0                   0                  0                           0                                0                    0                    0              0              0       0            0             0                        0          0             0            0             0                0                0                  0     0                      0                    0          0         0         0               0            0           0      0            0              0    0                 0            0           0         0            0                   0               0                   0           0              0             0           0              0            0             0           0              0    0          0                    0   \n",
       "1                   0               0             0       0                   0                 0       0                    0                         0            0                   0                          0                   0                  0                           0                                0                    0                    0              0              0       0            0             0                        0          0             0            0             0                0                0                  0     0                      0                    0          0         0         0               0            0           0      0            0              0    0                 0            0           0         0            0                   0               0                   0           0              0             0           0              0            0             0           0              0    0          0                    0   \n",
       "2                   0               0             0       0                   0                 0       0                    0                         0            0                   0                          0                   0                  0                           0                                0                    0                    0              0              0       0            0             0                        0          0             0            0             0                0                0                  0     0                      0                    0          0         0         0               0            0           0      0            0              0    0                 0            0           0         0            0                   0               0                   0           0              0             0           0              0            0             0           0              0    0          0                    0   \n",
       "3                   0               0             0       0                   0                 0       0                    0                         0            0                   0                          0                   0                  0                           0                                0                    0                    0              0              0       0            0             0                        0          0             0            0             0                0                0                  0     0                      0                    0          0         0         0               0            0           0      0            0              0    0                 0            0           0         0            0                   0               0                   0           0              0             0           0              0            0             0           0              0    0          0                    0   \n",
       "4                   0               0             0       0                   0                 0       0                    0                         0            0                   0                          0                   0                  0                           0                                0                    0                    0              0              0       0            0             0                        0          0             0            0             0                0                0                  0     0                      0                    0          0         0         0               0            0           0      0            0              0    0                 0            0           0         0            0                   0               0                   0           0              0             0           0              0            0             0           0              0    0          0                    0   \n",
       "\n",
       "   Sports Bar  Sports Club  Stadium  Stationery Store  Steakhouse  Strip Club  Supermarket  Sushi Restaurant  Swim School  Taco Place  Taiwanese Restaurant  Tea Room  Thai Restaurant  Theater  Theme Restaurant  Thrift / Vintage Store  Toy / Game Store  Train Station  Vegetarian / Vegan Restaurant  Video Game Store  Vietnamese Restaurant  Wine Bar  Wine Shop  Wings Joint  Yoga Studio  \n",
       "0           0            0        0                 0           0           0            0                 0            0           0                     0         0                0        0                 0                       0                 0              0                              0                 0                      0         0          0            0            0  \n",
       "1           0            0        0                 0           0           0            0                 0            0           0                     0         0                0        0                 0                       0                 0              0                              0                 0                      0         0          0            0            0  \n",
       "2           0            0        0                 0           0           0            0                 0            0           0                     0         0                0        0                 0                       0                 0              0                              0                 0                      0         0          0            0            0  \n",
       "3           0            0        0                 0           0           0            0                 0            0           0                     0         0                0        0                 0                       0                 0              0                              0                 0                      0         0          0            0            0  \n",
       "4           0            0        0                 0           0           0            0                 0            0           0                     0         0                0        0                 0                       0                 0              0                              0                 0                      0         0          0            0            0  "
      ],
      "text/html": "<div>\n<style scoped>\n    .dataframe tbody tr th:only-of-type {\n        vertical-align: middle;\n    }\n\n    .dataframe tbody tr th {\n        vertical-align: top;\n    }\n\n    .dataframe thead th {\n        text-align: right;\n    }\n</style>\n<table border=\"1\" class=\"dataframe\">\n  <thead>\n    <tr style=\"text-align: right;\">\n      <th></th>\n      <th>Neighbourhood</th>\n      <th>Accessories Store</th>\n      <th>Adult Boutique</th>\n      <th>Afghan Restaurant</th>\n      <th>American Restaurant</th>\n      <th>Antique Shop</th>\n      <th>Aquarium</th>\n      <th>Art Gallery</th>\n      <th>Arts &amp; Crafts Store</th>\n      <th>Asian Restaurant</th>\n      <th>Athletics &amp; Sports</th>\n      <th>BBQ Joint</th>\n      <th>Baby Store</th>\n      <th>Bagel Shop</th>\n      <th>Bakery</th>\n      <th>Bank</th>\n      <th>Bar</th>\n      <th>Basketball Stadium</th>\n      <th>Beer Bar</th>\n      <th>Beer Store</th>\n      <th>Belgian Restaurant</th>\n      <th>Bike Trail</th>\n      <th>Bistro</th>\n      <th>Board Shop</th>\n      <th>Boat or Ferry</th>\n      <th>Bookstore</th>\n      <th>Boutique</th>\n      <th>Brazilian Restaurant</th>\n      <th>Breakfast Spot</th>\n      <th>Brewery</th>\n      <th>Bubble Tea Shop</th>\n      <th>Burger Joint</th>\n      <th>Burrito Place</th>\n      <th>Bus Line</th>\n      <th>Business Service</th>\n      <th>Butcher</th>\n      <th>Cable Car</th>\n      <th>Café</th>\n      <th>Camera Store</th>\n      <th>Candy Store</th>\n      <th>Caribbean Restaurant</th>\n      <th>Cheese Shop</th>\n      <th>Chinese Restaurant</th>\n      <th>Chocolate Shop</th>\n      <th>Climbing Gym</th>\n      <th>Clothing Store</th>\n      <th>Cocktail Bar</th>\n      <th>Coffee Shop</th>\n      <th>College Arts Building</th>\n      <th>College Gym</th>\n      <th>College Rec Center</th>\n      <th>Colombian Restaurant</th>\n      <th>Comfort Food Restaurant</th>\n      <th>Comic Shop</th>\n      <th>Concert Hall</th>\n      <th>Construction &amp; Landscaping</th>\n      <th>Convenience Store</th>\n      <th>Cosmetics Shop</th>\n      <th>Creperie</th>\n      <th>Cuban Restaurant</th>\n      <th>Cupcake Shop</th>\n      <th>Dance Studio</th>\n      <th>Deli / Bodega</th>\n      <th>Department Store</th>\n      <th>Dessert Shop</th>\n      <th>Diner</th>\n      <th>Discount Store</th>\n      <th>Distribution Center</th>\n      <th>Dog Run</th>\n      <th>Eastern European Restaurant</th>\n      <th>Electronics Store</th>\n      <th>Elementary School</th>\n      <th>Escape Room</th>\n      <th>Ethiopian Restaurant</th>\n      <th>Event Space</th>\n      <th>Falafel Restaurant</th>\n      <th>Farm</th>\n      <th>Farmers Market</th>\n      <th>Fast Food Restaurant</th>\n      <th>Fish &amp; Chips Shop</th>\n      <th>Fish Market</th>\n      <th>Flea Market</th>\n      <th>Flower Shop</th>\n      <th>Food</th>\n      <th>Food &amp; Drink Shop</th>\n      <th>Food Court</th>\n      <th>Food Truck</th>\n      <th>French Restaurant</th>\n      <th>Fried Chicken Joint</th>\n      <th>Frozen Yogurt Shop</th>\n      <th>Furniture / Home Store</th>\n      <th>Gaming Cafe</th>\n      <th>Gas Station</th>\n      <th>Gastropub</th>\n      <th>Gay Bar</th>\n      <th>German Restaurant</th>\n      <th>Gift Shop</th>\n      <th>Gluten-free Restaurant</th>\n      <th>Gourmet Shop</th>\n      <th>Greek Restaurant</th>\n      <th>Grocery Store</th>\n      <th>Gym</th>\n      <th>Gym / Fitness Center</th>\n      <th>Gym Pool</th>\n      <th>Hawaiian Restaurant</th>\n      <th>Health &amp; Beauty Service</th>\n      <th>Health Food Store</th>\n      <th>Historic Site</th>\n      <th>History Museum</th>\n      <th>Hobby Shop</th>\n      <th>Home Service</th>\n      <th>Hookah Bar</th>\n      <th>Hotel</th>\n      <th>Hotel Bar</th>\n      <th>IT Services</th>\n      <th>Ice Cream Shop</th>\n      <th>Indian Restaurant</th>\n      <th>Intersection</th>\n      <th>Irish Pub</th>\n      <th>Italian Restaurant</th>\n      <th>Japanese Restaurant</th>\n      <th>Jazz Club</th>\n      <th>Jewelry Store</th>\n      <th>Juice Bar</th>\n      <th>Kitchen Supply Store</th>\n      <th>Korean Restaurant</th>\n      <th>Lake</th>\n      <th>Latin American Restaurant</th>\n      <th>Light Rail Station</th>\n      <th>Lingerie Store</th>\n      <th>Liquor Store</th>\n      <th>Lounge</th>\n      <th>Mac &amp; Cheese Joint</th>\n      <th>Malay Restaurant</th>\n      <th>Market</th>\n      <th>Martial Arts School</th>\n      <th>Mediterranean Restaurant</th>\n      <th>Men's Store</th>\n      <th>Mexican Restaurant</th>\n      <th>Middle Eastern Restaurant</th>\n      <th>Miscellaneous Shop</th>\n      <th>Mobile Phone Shop</th>\n      <th>Modern European Restaurant</th>\n      <th>Molecular Gastronomy Restaurant</th>\n      <th>Monument / Landmark</th>\n      <th>Moroccan Restaurant</th>\n      <th>Movie Theater</th>\n      <th>Moving Target</th>\n      <th>Museum</th>\n      <th>Music Venue</th>\n      <th>Neighborhood</th>\n      <th>New American Restaurant</th>\n      <th>Nightclub</th>\n      <th>Noodle House</th>\n      <th>Opera House</th>\n      <th>Optical Shop</th>\n      <th>Organic Grocery</th>\n      <th>Other Nightlife</th>\n      <th>Outdoor Sculpture</th>\n      <th>Park</th>\n      <th>Performing Arts Venue</th>\n      <th>Peruvian Restaurant</th>\n      <th>Pet Store</th>\n      <th>Pharmacy</th>\n      <th>Pie Shop</th>\n      <th>Pilates Studio</th>\n      <th>Pizza Place</th>\n      <th>Playground</th>\n      <th>Plaza</th>\n      <th>Post Office</th>\n      <th>Poutine Place</th>\n      <th>Pub</th>\n      <th>Ramen Restaurant</th>\n      <th>Record Shop</th>\n      <th>Restaurant</th>\n      <th>Sake Bar</th>\n      <th>Salad Place</th>\n      <th>Salon / Barbershop</th>\n      <th>Sandwich Place</th>\n      <th>Seafood Restaurant</th>\n      <th>Shoe Store</th>\n      <th>Shopping Mall</th>\n      <th>Skating Rink</th>\n      <th>Smoke Shop</th>\n      <th>Smoothie Shop</th>\n      <th>Snack Place</th>\n      <th>Soccer Field</th>\n      <th>Soup Place</th>\n      <th>Souvlaki Shop</th>\n      <th>Spa</th>\n      <th>Speakeasy</th>\n      <th>Sporting Goods Shop</th>\n      <th>Sports Bar</th>\n      <th>Sports Club</th>\n      <th>Stadium</th>\n      <th>Stationery Store</th>\n      <th>Steakhouse</th>\n      <th>Strip Club</th>\n      <th>Supermarket</th>\n      <th>Sushi Restaurant</th>\n      <th>Swim School</th>\n      <th>Taco Place</th>\n      <th>Taiwanese Restaurant</th>\n      <th>Tea Room</th>\n      <th>Thai Restaurant</th>\n      <th>Theater</th>\n      <th>Theme Restaurant</th>\n      <th>Thrift / Vintage Store</th>\n      <th>Toy / Game Store</th>\n      <th>Train Station</th>\n      <th>Vegetarian / Vegan Restaurant</th>\n      <th>Video Game Store</th>\n      <th>Vietnamese Restaurant</th>\n      <th>Wine Bar</th>\n      <th>Wine Shop</th>\n      <th>Wings Joint</th>\n      <th>Yoga Studio</th>\n    </tr>\n  </thead>\n  <tbody>\n    <tr>\n      <th>0</th>\n      <td>Regent Park, Harbourfront</td>\n      <td>0</td>\n      <td>0</td>\n      <td>0</td>\n      <td>0</td>\n      <td>0</td>\n      <td>0</td>\n      <td>0</td>\n      <td>0</td>\n      <td>0</td>\n      <td>0</td>\n      <td>0</td>\n      <td>0</td>\n      <td>0</td>\n      <td>0</td>\n      <td>0</td>\n      <td>0</td>\n      <td>0</td>\n      <td>0</td>\n      <td>0</td>\n      <td>0</td>\n      <td>0</td>\n      <td>0</td>\n      <td>0</td>\n      <td>0</td>\n      <td>0</td>\n      <td>0</td>\n      <td>0</td>\n      <td>0</td>\n      <td>0</td>\n      <td>0</td>\n      <td>0</td>\n      <td>0</td>\n      <td>0</td>\n      <td>0</td>\n      <td>0</td>\n      <td>0</td>\n      <td>0</td>\n      <td>0</td>\n      <td>0</td>\n      <td>0</td>\n      <td>0</td>\n      <td>0</td>\n      <td>0</td>\n      <td>0</td>\n      <td>0</td>\n      <td>0</td>\n      <td>1</td>\n      <td>0</td>\n      <td>0</td>\n      <td>0</td>\n      <td>0</td>\n      <td>0</td>\n      <td>0</td>\n      <td>0</td>\n      <td>0</td>\n      <td>0</td>\n      <td>0</td>\n      <td>0</td>\n      <td>0</td>\n      <td>0</td>\n      <td>0</td>\n      <td>0</td>\n      <td>0</td>\n      <td>0</td>\n      <td>0</td>\n      <td>0</td>\n      <td>0</td>\n      <td>0</td>\n      <td>0</td>\n      <td>0</td>\n      <td>0</td>\n      <td>0</td>\n      <td>0</td>\n      <td>0</td>\n      <td>0</td>\n      <td>0</td>\n      <td>0</td>\n      <td>0</td>\n      <td>0</td>\n      <td>0</td>\n      <td>0</td>\n      <td>0</td>\n      <td>0</td>\n      <td>0</td>\n      <td>0</td>\n      <td>0</td>\n      <td>0</td>\n      <td>0</td>\n      <td>0</td>\n      <td>0</td>\n      <td>0</td>\n      <td>0</td>\n      <td>0</td>\n      <td>0</td>\n      <td>0</td>\n      <td>0</td>\n      <td>0</td>\n      <td>0</td>\n      <td>0</td>\n      <td>0</td>\n      <td>0</td>\n      <td>0</td>\n      <td>0</td>\n      <td>0</td>\n      <td>0</td>\n      <td>0</td>\n      <td>0</td>\n      <td>0</td>\n      <td>0</td>\n      <td>0</td>\n      <td>0</td>\n      <td>0</td>\n      <td>0</td>\n      <td>0</td>\n      <td>0</td>\n      <td>0</td>\n      <td>0</td>\n      <td>0</td>\n      <td>0</td>\n      <td>0</td>\n      <td>0</td>\n      <td>0</td>\n      <td>0</td>\n      <td>0</td>\n      <td>0</td>\n      <td>0</td>\n      <td>0</td>\n      <td>0</td>\n      <td>0</td>\n      <td>0</td>\n      <td>0</td>\n      <td>0</td>\n      <td>0</td>\n      <td>0</td>\n      <td>0</td>\n      <td>0</td>\n      <td>0</td>\n      <td>0</td>\n      <td>0</td>\n      <td>0</td>\n      <td>0</td>\n      <td>0</td>\n      <td>0</td>\n      <td>0</td>\n      <td>0</td>\n      <td>0</td>\n      <td>0</td>\n      <td>0</td>\n      <td>0</td>\n      <td>0</td>\n      <td>0</td>\n      <td>0</td>\n      <td>0</td>\n      <td>0</td>\n      <td>0</td>\n      <td>0</td>\n      <td>0</td>\n      <td>0</td>\n      <td>0</td>\n      <td>0</td>\n      <td>0</td>\n      <td>0</td>\n      <td>0</td>\n      <td>0</td>\n      <td>0</td>\n      <td>0</td>\n      <td>0</td>\n      <td>0</td>\n      <td>0</td>\n      <td>0</td>\n      <td>0</td>\n      <td>0</td>\n      <td>0</td>\n      <td>0</td>\n      <td>0</td>\n      <td>0</td>\n      <td>0</td>\n      <td>0</td>\n      <td>0</td>\n      <td>0</td>\n      <td>0</td>\n      <td>0</td>\n      <td>0</td>\n      <td>0</td>\n      <td>0</td>\n      <td>0</td>\n      <td>0</td>\n      <td>0</td>\n      <td>0</td>\n      <td>0</td>\n      <td>0</td>\n      <td>0</td>\n      <td>0</td>\n      <td>0</td>\n      <td>0</td>\n      <td>0</td>\n      <td>0</td>\n      <td>0</td>\n      <td>0</td>\n      <td>0</td>\n      <td>0</td>\n      <td>0</td>\n      <td>0</td>\n      <td>0</td>\n      <td>0</td>\n      <td>0</td>\n      <td>0</td>\n      <td>0</td>\n      <td>0</td>\n      <td>0</td>\n      <td>0</td>\n      <td>0</td>\n      <td>0</td>\n      <td>0</td>\n      <td>0</td>\n      <td>0</td>\n    </tr>\n    <tr>\n      <th>1</th>\n      <td>Regent Park, Harbourfront</td>\n      <td>0</td>\n      <td>0</td>\n      <td>0</td>\n      <td>0</td>\n      <td>0</td>\n      <td>0</td>\n      <td>0</td>\n      <td>0</td>\n      <td>0</td>\n      <td>0</td>\n      <td>0</td>\n      <td>0</td>\n      <td>0</td>\n      <td>1</td>\n      <td>0</td>\n      <td>0</td>\n      <td>0</td>\n      <td>0</td>\n      <td>0</td>\n      <td>0</td>\n      <td>0</td>\n      <td>0</td>\n      <td>0</td>\n      <td>0</td>\n      <td>0</td>\n      <td>0</td>\n      <td>0</td>\n      <td>0</td>\n      <td>0</td>\n      <td>0</td>\n      <td>0</td>\n      <td>0</td>\n      <td>0</td>\n      <td>0</td>\n      <td>0</td>\n      <td>0</td>\n      <td>0</td>\n      <td>0</td>\n      <td>0</td>\n      <td>0</td>\n      <td>0</td>\n      <td>0</td>\n      <td>0</td>\n      <td>0</td>\n      <td>0</td>\n      <td>0</td>\n      <td>0</td>\n      <td>0</td>\n      <td>0</td>\n      <td>0</td>\n      <td>0</td>\n      <td>0</td>\n      <td>0</td>\n      <td>0</td>\n      <td>0</td>\n      <td>0</td>\n      <td>0</td>\n      <td>0</td>\n      <td>0</td>\n      <td>0</td>\n      <td>0</td>\n      <td>0</td>\n      <td>0</td>\n      <td>0</td>\n      <td>0</td>\n      <td>0</td>\n      <td>0</td>\n      <td>0</td>\n      <td>0</td>\n      <td>0</td>\n      <td>0</td>\n      <td>0</td>\n      <td>0</td>\n      <td>0</td>\n      <td>0</td>\n      <td>0</td>\n      <td>0</td>\n      <td>0</td>\n      <td>0</td>\n      <td>0</td>\n      <td>0</td>\n      <td>0</td>\n      <td>0</td>\n      <td>0</td>\n      <td>0</td>\n      <td>0</td>\n      <td>0</td>\n      <td>0</td>\n      <td>0</td>\n      <td>0</td>\n      <td>0</td>\n      <td>0</td>\n      <td>0</td>\n      <td>0</td>\n      <td>0</td>\n      <td>0</td>\n      <td>0</td>\n      <td>0</td>\n      <td>0</td>\n      <td>0</td>\n      <td>0</td>\n      <td>0</td>\n      <td>0</td>\n      <td>0</td>\n      <td>0</td>\n      <td>0</td>\n      <td>0</td>\n      <td>0</td>\n      <td>0</td>\n      <td>0</td>\n      <td>0</td>\n      <td>0</td>\n      <td>0</td>\n      <td>0</td>\n      <td>0</td>\n      <td>0</td>\n      <td>0</td>\n      <td>0</td>\n      <td>0</td>\n      <td>0</td>\n      <td>0</td>\n      <td>0</td>\n      <td>0</td>\n      <td>0</td>\n      <td>0</td>\n      <td>0</td>\n      <td>0</td>\n      <td>0</td>\n      <td>0</td>\n      <td>0</td>\n      <td>0</td>\n      <td>0</td>\n      <td>0</td>\n      <td>0</td>\n      <td>0</td>\n      <td>0</td>\n      <td>0</td>\n      <td>0</td>\n      <td>0</td>\n      <td>0</td>\n      <td>0</td>\n      <td>0</td>\n      <td>0</td>\n      <td>0</td>\n      <td>0</td>\n      <td>0</td>\n      <td>0</td>\n      <td>0</td>\n      <td>0</td>\n      <td>0</td>\n      <td>0</td>\n      <td>0</td>\n      <td>0</td>\n      <td>0</td>\n      <td>0</td>\n      <td>0</td>\n      <td>0</td>\n      <td>0</td>\n      <td>0</td>\n      <td>0</td>\n      <td>0</td>\n      <td>0</td>\n      <td>0</td>\n      <td>0</td>\n      <td>0</td>\n      <td>0</td>\n      <td>0</td>\n      <td>0</td>\n      <td>0</td>\n      <td>0</td>\n      <td>0</td>\n      <td>0</td>\n      <td>0</td>\n      <td>0</td>\n      <td>0</td>\n      <td>0</td>\n      <td>0</td>\n      <td>0</td>\n      <td>0</td>\n      <td>0</td>\n      <td>0</td>\n      <td>0</td>\n      <td>0</td>\n      <td>0</td>\n      <td>0</td>\n      <td>0</td>\n      <td>0</td>\n      <td>0</td>\n      <td>0</td>\n      <td>0</td>\n      <td>0</td>\n      <td>0</td>\n      <td>0</td>\n      <td>0</td>\n      <td>0</td>\n      <td>0</td>\n      <td>0</td>\n      <td>0</td>\n      <td>0</td>\n      <td>0</td>\n      <td>0</td>\n      <td>0</td>\n      <td>0</td>\n      <td>0</td>\n      <td>0</td>\n      <td>0</td>\n      <td>0</td>\n      <td>0</td>\n      <td>0</td>\n      <td>0</td>\n      <td>0</td>\n      <td>0</td>\n      <td>0</td>\n      <td>0</td>\n      <td>0</td>\n      <td>0</td>\n    </tr>\n    <tr>\n      <th>2</th>\n      <td>Regent Park, Harbourfront</td>\n      <td>0</td>\n      <td>0</td>\n      <td>0</td>\n      <td>0</td>\n      <td>0</td>\n      <td>0</td>\n      <td>0</td>\n      <td>0</td>\n      <td>0</td>\n      <td>0</td>\n      <td>0</td>\n      <td>0</td>\n      <td>0</td>\n      <td>0</td>\n      <td>0</td>\n      <td>0</td>\n      <td>0</td>\n      <td>0</td>\n      <td>0</td>\n      <td>0</td>\n      <td>0</td>\n      <td>0</td>\n      <td>0</td>\n      <td>0</td>\n      <td>0</td>\n      <td>0</td>\n      <td>0</td>\n      <td>0</td>\n      <td>0</td>\n      <td>0</td>\n      <td>0</td>\n      <td>0</td>\n      <td>0</td>\n      <td>0</td>\n      <td>0</td>\n      <td>0</td>\n      <td>0</td>\n      <td>0</td>\n      <td>0</td>\n      <td>0</td>\n      <td>0</td>\n      <td>0</td>\n      <td>0</td>\n      <td>0</td>\n      <td>0</td>\n      <td>0</td>\n      <td>0</td>\n      <td>0</td>\n      <td>0</td>\n      <td>0</td>\n      <td>0</td>\n      <td>0</td>\n      <td>0</td>\n      <td>0</td>\n      <td>0</td>\n      <td>0</td>\n      <td>0</td>\n      <td>0</td>\n      <td>0</td>\n      <td>0</td>\n      <td>0</td>\n      <td>0</td>\n      <td>0</td>\n      <td>0</td>\n      <td>0</td>\n      <td>0</td>\n      <td>0</td>\n      <td>0</td>\n      <td>0</td>\n      <td>0</td>\n      <td>0</td>\n      <td>0</td>\n      <td>0</td>\n      <td>0</td>\n      <td>0</td>\n      <td>0</td>\n      <td>0</td>\n      <td>0</td>\n      <td>0</td>\n      <td>0</td>\n      <td>0</td>\n      <td>0</td>\n      <td>0</td>\n      <td>0</td>\n      <td>0</td>\n      <td>0</td>\n      <td>0</td>\n      <td>0</td>\n      <td>0</td>\n      <td>0</td>\n      <td>0</td>\n      <td>0</td>\n      <td>0</td>\n      <td>0</td>\n      <td>0</td>\n      <td>0</td>\n      <td>0</td>\n      <td>0</td>\n      <td>1</td>\n      <td>0</td>\n      <td>0</td>\n      <td>0</td>\n      <td>0</td>\n      <td>0</td>\n      <td>0</td>\n      <td>0</td>\n      <td>0</td>\n      <td>0</td>\n      <td>0</td>\n      <td>0</td>\n      <td>0</td>\n      <td>0</td>\n      <td>0</td>\n      <td>0</td>\n      <td>0</td>\n      <td>0</td>\n      <td>0</td>\n      <td>0</td>\n      <td>0</td>\n      <td>0</td>\n      <td>0</td>\n      <td>0</td>\n      <td>0</td>\n      <td>0</td>\n      <td>0</td>\n      <td>0</td>\n      <td>0</td>\n      <td>0</td>\n      <td>0</td>\n      <td>0</td>\n      <td>0</td>\n      <td>0</td>\n      <td>0</td>\n      <td>0</td>\n      <td>0</td>\n      <td>0</td>\n      <td>0</td>\n      <td>0</td>\n      <td>0</td>\n      <td>0</td>\n      <td>0</td>\n      <td>0</td>\n      <td>0</td>\n      <td>0</td>\n      <td>0</td>\n      <td>0</td>\n      <td>0</td>\n      <td>0</td>\n      <td>0</td>\n      <td>0</td>\n      <td>0</td>\n      <td>0</td>\n      <td>0</td>\n      <td>0</td>\n      <td>0</td>\n      <td>0</td>\n      <td>0</td>\n      <td>0</td>\n      <td>0</td>\n      <td>0</td>\n      <td>0</td>\n      <td>0</td>\n      <td>0</td>\n      <td>0</td>\n      <td>0</td>\n      <td>0</td>\n      <td>0</td>\n      <td>0</td>\n      <td>0</td>\n      <td>0</td>\n      <td>0</td>\n      <td>0</td>\n      <td>0</td>\n      <td>0</td>\n      <td>0</td>\n      <td>0</td>\n      <td>0</td>\n      <td>0</td>\n      <td>0</td>\n      <td>0</td>\n      <td>0</td>\n      <td>0</td>\n      <td>0</td>\n      <td>0</td>\n      <td>0</td>\n      <td>0</td>\n      <td>0</td>\n      <td>0</td>\n      <td>0</td>\n      <td>0</td>\n      <td>0</td>\n      <td>0</td>\n      <td>0</td>\n      <td>0</td>\n      <td>0</td>\n      <td>0</td>\n      <td>0</td>\n      <td>0</td>\n      <td>0</td>\n      <td>0</td>\n      <td>0</td>\n      <td>0</td>\n      <td>0</td>\n      <td>0</td>\n      <td>0</td>\n      <td>0</td>\n      <td>0</td>\n      <td>0</td>\n      <td>0</td>\n      <td>0</td>\n      <td>0</td>\n      <td>0</td>\n      <td>0</td>\n      <td>0</td>\n      <td>0</td>\n      <td>0</td>\n    </tr>\n    <tr>\n      <th>3</th>\n      <td>Regent Park, Harbourfront</td>\n      <td>0</td>\n      <td>0</td>\n      <td>0</td>\n      <td>0</td>\n      <td>0</td>\n      <td>0</td>\n      <td>0</td>\n      <td>0</td>\n      <td>0</td>\n      <td>0</td>\n      <td>0</td>\n      <td>0</td>\n      <td>0</td>\n      <td>0</td>\n      <td>0</td>\n      <td>0</td>\n      <td>0</td>\n      <td>0</td>\n      <td>0</td>\n      <td>0</td>\n      <td>0</td>\n      <td>0</td>\n      <td>0</td>\n      <td>0</td>\n      <td>0</td>\n      <td>0</td>\n      <td>0</td>\n      <td>0</td>\n      <td>0</td>\n      <td>0</td>\n      <td>0</td>\n      <td>0</td>\n      <td>0</td>\n      <td>0</td>\n      <td>0</td>\n      <td>0</td>\n      <td>0</td>\n      <td>0</td>\n      <td>0</td>\n      <td>0</td>\n      <td>0</td>\n      <td>0</td>\n      <td>0</td>\n      <td>0</td>\n      <td>0</td>\n      <td>0</td>\n      <td>0</td>\n      <td>0</td>\n      <td>0</td>\n      <td>0</td>\n      <td>0</td>\n      <td>0</td>\n      <td>0</td>\n      <td>0</td>\n      <td>0</td>\n      <td>0</td>\n      <td>0</td>\n      <td>0</td>\n      <td>0</td>\n      <td>0</td>\n      <td>0</td>\n      <td>0</td>\n      <td>0</td>\n      <td>0</td>\n      <td>0</td>\n      <td>0</td>\n      <td>0</td>\n      <td>0</td>\n      <td>0</td>\n      <td>0</td>\n      <td>0</td>\n      <td>0</td>\n      <td>0</td>\n      <td>1</td>\n      <td>0</td>\n      <td>0</td>\n      <td>0</td>\n      <td>0</td>\n      <td>0</td>\n      <td>0</td>\n      <td>0</td>\n      <td>0</td>\n      <td>0</td>\n      <td>0</td>\n      <td>0</td>\n      <td>0</td>\n      <td>0</td>\n      <td>0</td>\n      <td>0</td>\n      <td>0</td>\n      <td>0</td>\n      <td>0</td>\n      <td>0</td>\n      <td>0</td>\n      <td>0</td>\n      <td>0</td>\n      <td>0</td>\n      <td>0</td>\n      <td>0</td>\n      <td>0</td>\n      <td>0</td>\n      <td>0</td>\n      <td>0</td>\n      <td>0</td>\n      <td>0</td>\n      <td>0</td>\n      <td>0</td>\n      <td>0</td>\n      <td>0</td>\n      <td>0</td>\n      <td>0</td>\n      <td>0</td>\n      <td>0</td>\n      <td>0</td>\n      <td>0</td>\n      <td>0</td>\n      <td>0</td>\n      <td>0</td>\n      <td>0</td>\n      <td>0</td>\n      <td>0</td>\n      <td>0</td>\n      <td>0</td>\n      <td>0</td>\n      <td>0</td>\n      <td>0</td>\n      <td>0</td>\n      <td>0</td>\n      <td>0</td>\n      <td>0</td>\n      <td>0</td>\n      <td>0</td>\n      <td>0</td>\n      <td>0</td>\n      <td>0</td>\n      <td>0</td>\n      <td>0</td>\n      <td>0</td>\n      <td>0</td>\n      <td>0</td>\n      <td>0</td>\n      <td>0</td>\n      <td>0</td>\n      <td>0</td>\n      <td>0</td>\n      <td>0</td>\n      <td>0</td>\n      <td>0</td>\n      <td>0</td>\n      <td>0</td>\n      <td>0</td>\n      <td>0</td>\n      <td>0</td>\n      <td>0</td>\n      <td>0</td>\n      <td>0</td>\n      <td>0</td>\n      <td>0</td>\n      <td>0</td>\n      <td>0</td>\n      <td>0</td>\n      <td>0</td>\n      <td>0</td>\n      <td>0</td>\n      <td>0</td>\n      <td>0</td>\n      <td>0</td>\n      <td>0</td>\n      <td>0</td>\n      <td>0</td>\n      <td>0</td>\n      <td>0</td>\n      <td>0</td>\n      <td>0</td>\n      <td>0</td>\n      <td>0</td>\n      <td>0</td>\n      <td>0</td>\n      <td>0</td>\n      <td>0</td>\n      <td>0</td>\n      <td>0</td>\n      <td>0</td>\n      <td>0</td>\n      <td>0</td>\n      <td>0</td>\n      <td>0</td>\n      <td>0</td>\n      <td>0</td>\n      <td>0</td>\n      <td>0</td>\n      <td>0</td>\n      <td>0</td>\n      <td>0</td>\n      <td>0</td>\n      <td>0</td>\n      <td>0</td>\n      <td>0</td>\n      <td>0</td>\n      <td>0</td>\n      <td>0</td>\n      <td>0</td>\n      <td>0</td>\n      <td>0</td>\n      <td>0</td>\n      <td>0</td>\n      <td>0</td>\n      <td>0</td>\n      <td>0</td>\n      <td>0</td>\n      <td>0</td>\n      <td>0</td>\n      <td>0</td>\n      <td>0</td>\n      <td>0</td>\n      <td>0</td>\n    </tr>\n    <tr>\n      <th>4</th>\n      <td>Regent Park, Harbourfront</td>\n      <td>0</td>\n      <td>0</td>\n      <td>0</td>\n      <td>0</td>\n      <td>0</td>\n      <td>0</td>\n      <td>0</td>\n      <td>0</td>\n      <td>0</td>\n      <td>0</td>\n      <td>0</td>\n      <td>0</td>\n      <td>0</td>\n      <td>0</td>\n      <td>0</td>\n      <td>0</td>\n      <td>0</td>\n      <td>0</td>\n      <td>0</td>\n      <td>0</td>\n      <td>0</td>\n      <td>0</td>\n      <td>0</td>\n      <td>0</td>\n      <td>0</td>\n      <td>0</td>\n      <td>0</td>\n      <td>1</td>\n      <td>0</td>\n      <td>0</td>\n      <td>0</td>\n      <td>0</td>\n      <td>0</td>\n      <td>0</td>\n      <td>0</td>\n      <td>0</td>\n      <td>0</td>\n      <td>0</td>\n      <td>0</td>\n      <td>0</td>\n      <td>0</td>\n      <td>0</td>\n      <td>0</td>\n      <td>0</td>\n      <td>0</td>\n      <td>0</td>\n      <td>0</td>\n      <td>0</td>\n      <td>0</td>\n      <td>0</td>\n      <td>0</td>\n      <td>0</td>\n      <td>0</td>\n      <td>0</td>\n      <td>0</td>\n      <td>0</td>\n      <td>0</td>\n      <td>0</td>\n      <td>0</td>\n      <td>0</td>\n      <td>0</td>\n      <td>0</td>\n      <td>0</td>\n      <td>0</td>\n      <td>0</td>\n      <td>0</td>\n      <td>0</td>\n      <td>0</td>\n      <td>0</td>\n      <td>0</td>\n      <td>0</td>\n      <td>0</td>\n      <td>0</td>\n      <td>0</td>\n      <td>0</td>\n      <td>0</td>\n      <td>0</td>\n      <td>0</td>\n      <td>0</td>\n      <td>0</td>\n      <td>0</td>\n      <td>0</td>\n      <td>0</td>\n      <td>0</td>\n      <td>0</td>\n      <td>0</td>\n      <td>0</td>\n      <td>0</td>\n      <td>0</td>\n      <td>0</td>\n      <td>0</td>\n      <td>0</td>\n      <td>0</td>\n      <td>0</td>\n      <td>0</td>\n      <td>0</td>\n      <td>0</td>\n      <td>0</td>\n      <td>0</td>\n      <td>0</td>\n      <td>0</td>\n      <td>0</td>\n      <td>0</td>\n      <td>0</td>\n      <td>0</td>\n      <td>0</td>\n      <td>0</td>\n      <td>0</td>\n      <td>0</td>\n      <td>0</td>\n      <td>0</td>\n      <td>0</td>\n      <td>0</td>\n      <td>0</td>\n      <td>0</td>\n      <td>0</td>\n      <td>0</td>\n      <td>0</td>\n      <td>0</td>\n      <td>0</td>\n      <td>0</td>\n      <td>0</td>\n      <td>0</td>\n      <td>0</td>\n      <td>0</td>\n      <td>0</td>\n      <td>0</td>\n      <td>0</td>\n      <td>0</td>\n      <td>0</td>\n      <td>0</td>\n      <td>0</td>\n      <td>0</td>\n      <td>0</td>\n      <td>0</td>\n      <td>0</td>\n      <td>0</td>\n      <td>0</td>\n      <td>0</td>\n      <td>0</td>\n      <td>0</td>\n      <td>0</td>\n      <td>0</td>\n      <td>0</td>\n      <td>0</td>\n      <td>0</td>\n      <td>0</td>\n      <td>0</td>\n      <td>0</td>\n      <td>0</td>\n      <td>0</td>\n      <td>0</td>\n      <td>0</td>\n      <td>0</td>\n      <td>0</td>\n      <td>0</td>\n      <td>0</td>\n      <td>0</td>\n      <td>0</td>\n      <td>0</td>\n      <td>0</td>\n      <td>0</td>\n      <td>0</td>\n      <td>0</td>\n      <td>0</td>\n      <td>0</td>\n      <td>0</td>\n      <td>0</td>\n      <td>0</td>\n      <td>0</td>\n      <td>0</td>\n      <td>0</td>\n      <td>0</td>\n      <td>0</td>\n      <td>0</td>\n      <td>0</td>\n      <td>0</td>\n      <td>0</td>\n      <td>0</td>\n      <td>0</td>\n      <td>0</td>\n      <td>0</td>\n      <td>0</td>\n      <td>0</td>\n      <td>0</td>\n      <td>0</td>\n      <td>0</td>\n      <td>0</td>\n      <td>0</td>\n      <td>0</td>\n      <td>0</td>\n      <td>0</td>\n      <td>0</td>\n      <td>0</td>\n      <td>0</td>\n      <td>0</td>\n      <td>0</td>\n      <td>0</td>\n      <td>0</td>\n      <td>0</td>\n      <td>0</td>\n      <td>0</td>\n      <td>0</td>\n      <td>0</td>\n      <td>0</td>\n      <td>0</td>\n      <td>0</td>\n      <td>0</td>\n      <td>0</td>\n      <td>0</td>\n      <td>0</td>\n      <td>0</td>\n      <td>0</td>\n      <td>0</td>\n      <td>0</td>\n      <td>0</td>\n    </tr>\n  </tbody>\n</table>\n</div>"
     },
     "metadata": {},
     "execution_count": 43
    }
   ],
   "source": [
    "#Neighborhood Analysis\n",
    "# one hot encoding\n",
    "toronto_onehot = pd.get_dummies(toronto_venues[['Venue Category']], prefix=\"\", prefix_sep=\"\")\n",
    "\n",
    "# add neighborhood column back to dataframe\n",
    "toronto_onehot['Neighbourhood'] = toronto_venues['Neighbourhood'] \n",
    "\n",
    "# move neighborhood column to the first column\n",
    "fixed_columns = [toronto_onehot.columns[-1]] + list(toronto_onehot.columns[:-1])\n",
    "toronto_onehot = toronto_onehot[fixed_columns]\n",
    "\n",
    "toronto_onehot.head()"
   ]
  },
  {
   "cell_type": "code",
   "execution_count": 44,
   "metadata": {},
   "outputs": [
    {
     "output_type": "execute_result",
     "data": {
      "text/plain": [
       "(1590, 217)"
      ]
     },
     "metadata": {},
     "execution_count": 44
    }
   ],
   "source": [
    "toronto_onehot.shape"
   ]
  },
  {
   "cell_type": "code",
   "execution_count": 45,
   "metadata": {},
   "outputs": [
    {
     "output_type": "execute_result",
     "data": {
      "text/plain": [
       "   Neighborhood  Accessories Store  Adult Boutique  Afghan Restaurant  American Restaurant  Antique Shop  Aquarium  Art Gallery  Arts & Crafts Store  Asian Restaurant  Athletics & Sports  BBQ Joint  Baby Store  Bagel Shop    Bakery      Bank       Bar  Basketball Stadium  Beer Bar  Beer Store  Belgian Restaurant  Bike Trail    Bistro  Board Shop  Boat or Ferry  Bookstore  Boutique  Brazilian Restaurant  Breakfast Spot   Brewery  Bubble Tea Shop  Burger Joint  Burrito Place  Bus Line  Business Service   Butcher  Cable Car      Café  Camera Store  Candy Store  Caribbean Restaurant  Cheese Shop  Chinese Restaurant  Chocolate Shop  Climbing Gym  Clothing Store  Cocktail Bar  Coffee Shop  College Arts Building  College Gym  College Rec Center  Colombian Restaurant  Comfort Food Restaurant  Comic Shop  Concert Hall  Construction & Landscaping  Convenience Store  Cosmetics Shop  Creperie  Cuban Restaurant  Cupcake Shop  Dance Studio  Deli / Bodega  Department Store  Dessert Shop     Diner  \\\n",
       "0             0           0.000631        0.001263           0.000631             0.010732      0.000631  0.001263     0.006944             0.002525          0.015152            0.001263   0.002525    0.000631    0.002525  0.021465  0.018939  0.016414            0.001263  0.008207    0.001263            0.000631    0.000631  0.001894    0.000631       0.001263   0.003157  0.002525              0.001263        0.007576  0.003157         0.002525      0.008207       0.008207  0.001894          0.000631  0.001263   0.000631  0.049874      0.000631     0.001263              0.000631     0.001894            0.003157        0.001263      0.000631        0.011364      0.015152     0.102273               0.000631     0.001263            0.000631              0.000631                 0.003157    0.001263      0.006944                    0.000631           0.001263        0.006944  0.001263          0.001263      0.000631      0.003157       0.011364          0.003157      0.003788  0.006944   \n",
       "1             1           0.000000        0.000000           0.000000             0.000000      0.000000  0.000000     0.000000             0.000000          0.000000            0.000000   0.000000    0.000000    0.000000  0.000000  0.000000  0.000000            0.000000  0.000000    0.000000            0.000000    0.000000  0.000000    0.000000       0.000000   0.000000  0.000000              0.000000        0.000000  0.000000         0.000000      0.000000       0.000000  0.000000          0.000000  0.000000   0.000000  0.000000      0.000000     0.000000              0.000000     0.000000            0.000000        0.000000      0.000000        0.000000      0.000000     0.000000               0.000000     0.000000            0.000000              0.000000                 0.000000    0.000000      0.000000                    0.000000           0.000000        0.000000  0.000000          0.000000      0.000000      0.000000       0.000000          0.000000      0.000000  0.000000   \n",
       "\n",
       "   Discount Store  Distribution Center   Dog Run  Eastern European Restaurant  Electronics Store  Elementary School  Escape Room  Ethiopian Restaurant  Event Space  Falafel Restaurant      Farm  Farmers Market  Fast Food Restaurant  Fish & Chips Shop  Fish Market  Flea Market  Flower Shop      Food  Food & Drink Shop  Food Court  Food Truck  French Restaurant  Fried Chicken Joint  Frozen Yogurt Shop  Furniture / Home Store  Gaming Cafe  Gas Station  Gastropub   Gay Bar  German Restaurant  Gift Shop  Gluten-free Restaurant  Gourmet Shop  Greek Restaurant  Grocery Store       Gym  Gym / Fitness Center  Gym Pool  Hawaiian Restaurant  Health & Beauty Service  Health Food Store  Historic Site  History Museum  Hobby Shop  Home Service  Hookah Bar     Hotel  Hotel Bar  IT Services  Ice Cream Shop  Indian Restaurant  Intersection  Irish Pub  Italian Restaurant  Japanese Restaurant  Jazz Club  Jewelry Store  Juice Bar  Kitchen Supply Store  Korean Restaurant      Lake  \\\n",
       "0        0.001894             0.001894  0.001263                     0.001894           0.002525           0.000631     0.000631              0.001894     0.000631            0.004419  0.000631        0.003157              0.005682           0.001263     0.001894     0.000631     0.000631  0.000631           0.001894    0.001894    0.001894           0.008207             0.000631            0.000631                0.006313     0.001263     0.001263   0.010732  0.001263           0.000631   0.001263                0.001894      0.001263          0.007576       0.008207  0.019571               0.00947  0.000631             0.000631                 0.000631           0.001263       0.001263        0.001263    0.001263      0.000631    0.000631  0.029672   0.001894     0.001263        0.003788           0.005051      0.001263   0.000631            0.026515             0.027778   0.003157       0.000631   0.003157              0.001263           0.000631  0.000631   \n",
       "1        0.000000             0.000000  0.000000                     0.000000           0.000000           0.000000     0.000000              0.000000     0.000000            0.000000  0.000000        0.000000              0.000000           0.000000     0.000000     0.000000     0.000000  0.000000           0.000000    0.000000    0.000000           0.000000             0.000000            0.000000                0.000000     0.000000     0.000000   0.000000  0.000000           0.000000   0.000000                0.000000      0.000000          0.000000       0.000000  0.000000               0.00000  0.000000             0.000000                 0.000000           0.000000       0.000000        0.000000    0.000000      0.000000    0.000000  0.000000   0.000000     0.000000        0.000000           0.000000      0.000000   0.000000            0.000000             0.000000   0.000000       0.000000   0.000000              0.000000           0.000000  0.000000   \n",
       "\n",
       "   Latin American Restaurant  Light Rail Station  Lingerie Store  Liquor Store    Lounge  Mac & Cheese Joint  Malay Restaurant    Market  Martial Arts School  Mediterranean Restaurant  Men's Store  Mexican Restaurant  Middle Eastern Restaurant  Miscellaneous Shop  Mobile Phone Shop  Modern European Restaurant  Molecular Gastronomy Restaurant  Monument / Landmark  Moroccan Restaurant  Movie Theater  Moving Target    Museum  Music Venue  New American Restaurant  Nightclub  Noodle House  Opera House  Optical Shop  Organic Grocery  Other Nightlife  Outdoor Sculpture      Park  Performing Arts Venue  Peruvian Restaurant  Pet Store  Pharmacy  Pie Shop  Pilates Studio  Pizza Place  Playground     Plaza  Post Office  Poutine Place       Pub  Ramen Restaurant  Record Shop  Restaurant  Sake Bar  Salad Place  Salon / Barbershop  Sandwich Place  Seafood Restaurant  Shoe Store  Shopping Mall  Skating Rink  Smoke Shop  Smoothie Shop  Snack Place  Soccer Field  Soup Place  Souvlaki Shop       Spa  \\\n",
       "0                   0.001894            0.001894        0.001263      0.003788  0.005682            0.000631          0.000631  0.000631             0.000631                  0.002525     0.001894            0.003157                   0.006313            0.001263           0.000631                    0.003157                         0.001894             0.003788             0.000631       0.003788       0.000631  0.002525     0.003157                 0.005051   0.001263      0.001263     0.002525      0.000631         0.000631         0.000631           0.000631  0.020202               0.000631             0.000631   0.001894   0.00947  0.001263        0.000631     0.020202    0.002525  0.006944     0.000631       0.001263  0.013889          0.004419     0.003788    0.032197  0.000631     0.006313            0.003157        0.041667            0.008838    0.002525       0.001263      0.000631    0.000631       0.000631     0.000631      0.000631    0.002525       0.001263  0.003788   \n",
       "1                   0.000000            0.000000        0.000000      0.000000  0.000000            0.000000          0.000000  0.000000             0.000000                  0.000000     0.000000            0.000000                   0.000000            0.000000           0.000000                    0.000000                         0.000000             0.000000             0.000000       0.000000       0.000000  0.000000     0.000000                 0.000000   0.000000      0.000000     0.000000      0.000000         0.000000         0.000000           0.000000  0.000000               0.000000             0.000000   0.000000   0.00000  0.000000        0.000000     0.000000    0.000000  0.000000     0.000000       0.000000  0.000000          0.000000     0.000000    0.000000  0.000000     0.000000            0.000000        0.000000            0.000000    0.000000       0.000000      0.000000    0.000000       0.000000     0.000000      0.000000    0.000000       0.000000  0.000000   \n",
       "\n",
       "   Speakeasy  Sporting Goods Shop  Sports Bar  Sports Club   Stadium  Stationery Store  Steakhouse  Strip Club  Supermarket  Sushi Restaurant  Swim School  Taco Place  Taiwanese Restaurant  Tea Room  Thai Restaurant   Theater  Theme Restaurant  Thrift / Vintage Store  Toy / Game Store  Train Station  Vegetarian / Vegan Restaurant  Video Game Store  Vietnamese Restaurant  Wine Bar  Wine Shop  Wings Joint  Yoga Studio  \n",
       "0   0.004419             0.003788    0.000631     0.000631  0.000631          0.000631    0.010101    0.000631     0.001894          0.018939     0.000631    0.001263              0.000631  0.005051         0.011995  0.005682          0.000631                0.001263          0.000631       0.002525                       0.011364          0.001894               0.005682  0.006944   0.000631     0.000631     0.002525  \n",
       "1   0.000000             0.000000    0.000000     0.000000  0.000000          0.000000    0.000000    0.000000     0.000000          0.000000     0.000000    0.000000              0.000000  0.000000         0.000000  0.000000          0.000000                0.000000          0.000000       0.000000                       0.000000          0.000000               0.000000  0.000000   0.000000     0.000000     0.000000  "
      ],
      "text/html": "<div>\n<style scoped>\n    .dataframe tbody tr th:only-of-type {\n        vertical-align: middle;\n    }\n\n    .dataframe tbody tr th {\n        vertical-align: top;\n    }\n\n    .dataframe thead th {\n        text-align: right;\n    }\n</style>\n<table border=\"1\" class=\"dataframe\">\n  <thead>\n    <tr style=\"text-align: right;\">\n      <th></th>\n      <th>Neighborhood</th>\n      <th>Accessories Store</th>\n      <th>Adult Boutique</th>\n      <th>Afghan Restaurant</th>\n      <th>American Restaurant</th>\n      <th>Antique Shop</th>\n      <th>Aquarium</th>\n      <th>Art Gallery</th>\n      <th>Arts &amp; Crafts Store</th>\n      <th>Asian Restaurant</th>\n      <th>Athletics &amp; Sports</th>\n      <th>BBQ Joint</th>\n      <th>Baby Store</th>\n      <th>Bagel Shop</th>\n      <th>Bakery</th>\n      <th>Bank</th>\n      <th>Bar</th>\n      <th>Basketball Stadium</th>\n      <th>Beer Bar</th>\n      <th>Beer Store</th>\n      <th>Belgian Restaurant</th>\n      <th>Bike Trail</th>\n      <th>Bistro</th>\n      <th>Board Shop</th>\n      <th>Boat or Ferry</th>\n      <th>Bookstore</th>\n      <th>Boutique</th>\n      <th>Brazilian Restaurant</th>\n      <th>Breakfast Spot</th>\n      <th>Brewery</th>\n      <th>Bubble Tea Shop</th>\n      <th>Burger Joint</th>\n      <th>Burrito Place</th>\n      <th>Bus Line</th>\n      <th>Business Service</th>\n      <th>Butcher</th>\n      <th>Cable Car</th>\n      <th>Café</th>\n      <th>Camera Store</th>\n      <th>Candy Store</th>\n      <th>Caribbean Restaurant</th>\n      <th>Cheese Shop</th>\n      <th>Chinese Restaurant</th>\n      <th>Chocolate Shop</th>\n      <th>Climbing Gym</th>\n      <th>Clothing Store</th>\n      <th>Cocktail Bar</th>\n      <th>Coffee Shop</th>\n      <th>College Arts Building</th>\n      <th>College Gym</th>\n      <th>College Rec Center</th>\n      <th>Colombian Restaurant</th>\n      <th>Comfort Food Restaurant</th>\n      <th>Comic Shop</th>\n      <th>Concert Hall</th>\n      <th>Construction &amp; Landscaping</th>\n      <th>Convenience Store</th>\n      <th>Cosmetics Shop</th>\n      <th>Creperie</th>\n      <th>Cuban Restaurant</th>\n      <th>Cupcake Shop</th>\n      <th>Dance Studio</th>\n      <th>Deli / Bodega</th>\n      <th>Department Store</th>\n      <th>Dessert Shop</th>\n      <th>Diner</th>\n      <th>Discount Store</th>\n      <th>Distribution Center</th>\n      <th>Dog Run</th>\n      <th>Eastern European Restaurant</th>\n      <th>Electronics Store</th>\n      <th>Elementary School</th>\n      <th>Escape Room</th>\n      <th>Ethiopian Restaurant</th>\n      <th>Event Space</th>\n      <th>Falafel Restaurant</th>\n      <th>Farm</th>\n      <th>Farmers Market</th>\n      <th>Fast Food Restaurant</th>\n      <th>Fish &amp; Chips Shop</th>\n      <th>Fish Market</th>\n      <th>Flea Market</th>\n      <th>Flower Shop</th>\n      <th>Food</th>\n      <th>Food &amp; Drink Shop</th>\n      <th>Food Court</th>\n      <th>Food Truck</th>\n      <th>French Restaurant</th>\n      <th>Fried Chicken Joint</th>\n      <th>Frozen Yogurt Shop</th>\n      <th>Furniture / Home Store</th>\n      <th>Gaming Cafe</th>\n      <th>Gas Station</th>\n      <th>Gastropub</th>\n      <th>Gay Bar</th>\n      <th>German Restaurant</th>\n      <th>Gift Shop</th>\n      <th>Gluten-free Restaurant</th>\n      <th>Gourmet Shop</th>\n      <th>Greek Restaurant</th>\n      <th>Grocery Store</th>\n      <th>Gym</th>\n      <th>Gym / Fitness Center</th>\n      <th>Gym Pool</th>\n      <th>Hawaiian Restaurant</th>\n      <th>Health &amp; Beauty Service</th>\n      <th>Health Food Store</th>\n      <th>Historic Site</th>\n      <th>History Museum</th>\n      <th>Hobby Shop</th>\n      <th>Home Service</th>\n      <th>Hookah Bar</th>\n      <th>Hotel</th>\n      <th>Hotel Bar</th>\n      <th>IT Services</th>\n      <th>Ice Cream Shop</th>\n      <th>Indian Restaurant</th>\n      <th>Intersection</th>\n      <th>Irish Pub</th>\n      <th>Italian Restaurant</th>\n      <th>Japanese Restaurant</th>\n      <th>Jazz Club</th>\n      <th>Jewelry Store</th>\n      <th>Juice Bar</th>\n      <th>Kitchen Supply Store</th>\n      <th>Korean Restaurant</th>\n      <th>Lake</th>\n      <th>Latin American Restaurant</th>\n      <th>Light Rail Station</th>\n      <th>Lingerie Store</th>\n      <th>Liquor Store</th>\n      <th>Lounge</th>\n      <th>Mac &amp; Cheese Joint</th>\n      <th>Malay Restaurant</th>\n      <th>Market</th>\n      <th>Martial Arts School</th>\n      <th>Mediterranean Restaurant</th>\n      <th>Men's Store</th>\n      <th>Mexican Restaurant</th>\n      <th>Middle Eastern Restaurant</th>\n      <th>Miscellaneous Shop</th>\n      <th>Mobile Phone Shop</th>\n      <th>Modern European Restaurant</th>\n      <th>Molecular Gastronomy Restaurant</th>\n      <th>Monument / Landmark</th>\n      <th>Moroccan Restaurant</th>\n      <th>Movie Theater</th>\n      <th>Moving Target</th>\n      <th>Museum</th>\n      <th>Music Venue</th>\n      <th>New American Restaurant</th>\n      <th>Nightclub</th>\n      <th>Noodle House</th>\n      <th>Opera House</th>\n      <th>Optical Shop</th>\n      <th>Organic Grocery</th>\n      <th>Other Nightlife</th>\n      <th>Outdoor Sculpture</th>\n      <th>Park</th>\n      <th>Performing Arts Venue</th>\n      <th>Peruvian Restaurant</th>\n      <th>Pet Store</th>\n      <th>Pharmacy</th>\n      <th>Pie Shop</th>\n      <th>Pilates Studio</th>\n      <th>Pizza Place</th>\n      <th>Playground</th>\n      <th>Plaza</th>\n      <th>Post Office</th>\n      <th>Poutine Place</th>\n      <th>Pub</th>\n      <th>Ramen Restaurant</th>\n      <th>Record Shop</th>\n      <th>Restaurant</th>\n      <th>Sake Bar</th>\n      <th>Salad Place</th>\n      <th>Salon / Barbershop</th>\n      <th>Sandwich Place</th>\n      <th>Seafood Restaurant</th>\n      <th>Shoe Store</th>\n      <th>Shopping Mall</th>\n      <th>Skating Rink</th>\n      <th>Smoke Shop</th>\n      <th>Smoothie Shop</th>\n      <th>Snack Place</th>\n      <th>Soccer Field</th>\n      <th>Soup Place</th>\n      <th>Souvlaki Shop</th>\n      <th>Spa</th>\n      <th>Speakeasy</th>\n      <th>Sporting Goods Shop</th>\n      <th>Sports Bar</th>\n      <th>Sports Club</th>\n      <th>Stadium</th>\n      <th>Stationery Store</th>\n      <th>Steakhouse</th>\n      <th>Strip Club</th>\n      <th>Supermarket</th>\n      <th>Sushi Restaurant</th>\n      <th>Swim School</th>\n      <th>Taco Place</th>\n      <th>Taiwanese Restaurant</th>\n      <th>Tea Room</th>\n      <th>Thai Restaurant</th>\n      <th>Theater</th>\n      <th>Theme Restaurant</th>\n      <th>Thrift / Vintage Store</th>\n      <th>Toy / Game Store</th>\n      <th>Train Station</th>\n      <th>Vegetarian / Vegan Restaurant</th>\n      <th>Video Game Store</th>\n      <th>Vietnamese Restaurant</th>\n      <th>Wine Bar</th>\n      <th>Wine Shop</th>\n      <th>Wings Joint</th>\n      <th>Yoga Studio</th>\n    </tr>\n  </thead>\n  <tbody>\n    <tr>\n      <th>0</th>\n      <td>0</td>\n      <td>0.000631</td>\n      <td>0.001263</td>\n      <td>0.000631</td>\n      <td>0.010732</td>\n      <td>0.000631</td>\n      <td>0.001263</td>\n      <td>0.006944</td>\n      <td>0.002525</td>\n      <td>0.015152</td>\n      <td>0.001263</td>\n      <td>0.002525</td>\n      <td>0.000631</td>\n      <td>0.002525</td>\n      <td>0.021465</td>\n      <td>0.018939</td>\n      <td>0.016414</td>\n      <td>0.001263</td>\n      <td>0.008207</td>\n      <td>0.001263</td>\n      <td>0.000631</td>\n      <td>0.000631</td>\n      <td>0.001894</td>\n      <td>0.000631</td>\n      <td>0.001263</td>\n      <td>0.003157</td>\n      <td>0.002525</td>\n      <td>0.001263</td>\n      <td>0.007576</td>\n      <td>0.003157</td>\n      <td>0.002525</td>\n      <td>0.008207</td>\n      <td>0.008207</td>\n      <td>0.001894</td>\n      <td>0.000631</td>\n      <td>0.001263</td>\n      <td>0.000631</td>\n      <td>0.049874</td>\n      <td>0.000631</td>\n      <td>0.001263</td>\n      <td>0.000631</td>\n      <td>0.001894</td>\n      <td>0.003157</td>\n      <td>0.001263</td>\n      <td>0.000631</td>\n      <td>0.011364</td>\n      <td>0.015152</td>\n      <td>0.102273</td>\n      <td>0.000631</td>\n      <td>0.001263</td>\n      <td>0.000631</td>\n      <td>0.000631</td>\n      <td>0.003157</td>\n      <td>0.001263</td>\n      <td>0.006944</td>\n      <td>0.000631</td>\n      <td>0.001263</td>\n      <td>0.006944</td>\n      <td>0.001263</td>\n      <td>0.001263</td>\n      <td>0.000631</td>\n      <td>0.003157</td>\n      <td>0.011364</td>\n      <td>0.003157</td>\n      <td>0.003788</td>\n      <td>0.006944</td>\n      <td>0.001894</td>\n      <td>0.001894</td>\n      <td>0.001263</td>\n      <td>0.001894</td>\n      <td>0.002525</td>\n      <td>0.000631</td>\n      <td>0.000631</td>\n      <td>0.001894</td>\n      <td>0.000631</td>\n      <td>0.004419</td>\n      <td>0.000631</td>\n      <td>0.003157</td>\n      <td>0.005682</td>\n      <td>0.001263</td>\n      <td>0.001894</td>\n      <td>0.000631</td>\n      <td>0.000631</td>\n      <td>0.000631</td>\n      <td>0.001894</td>\n      <td>0.001894</td>\n      <td>0.001894</td>\n      <td>0.008207</td>\n      <td>0.000631</td>\n      <td>0.000631</td>\n      <td>0.006313</td>\n      <td>0.001263</td>\n      <td>0.001263</td>\n      <td>0.010732</td>\n      <td>0.001263</td>\n      <td>0.000631</td>\n      <td>0.001263</td>\n      <td>0.001894</td>\n      <td>0.001263</td>\n      <td>0.007576</td>\n      <td>0.008207</td>\n      <td>0.019571</td>\n      <td>0.00947</td>\n      <td>0.000631</td>\n      <td>0.000631</td>\n      <td>0.000631</td>\n      <td>0.001263</td>\n      <td>0.001263</td>\n      <td>0.001263</td>\n      <td>0.001263</td>\n      <td>0.000631</td>\n      <td>0.000631</td>\n      <td>0.029672</td>\n      <td>0.001894</td>\n      <td>0.001263</td>\n      <td>0.003788</td>\n      <td>0.005051</td>\n      <td>0.001263</td>\n      <td>0.000631</td>\n      <td>0.026515</td>\n      <td>0.027778</td>\n      <td>0.003157</td>\n      <td>0.000631</td>\n      <td>0.003157</td>\n      <td>0.001263</td>\n      <td>0.000631</td>\n      <td>0.000631</td>\n      <td>0.001894</td>\n      <td>0.001894</td>\n      <td>0.001263</td>\n      <td>0.003788</td>\n      <td>0.005682</td>\n      <td>0.000631</td>\n      <td>0.000631</td>\n      <td>0.000631</td>\n      <td>0.000631</td>\n      <td>0.002525</td>\n      <td>0.001894</td>\n      <td>0.003157</td>\n      <td>0.006313</td>\n      <td>0.001263</td>\n      <td>0.000631</td>\n      <td>0.003157</td>\n      <td>0.001894</td>\n      <td>0.003788</td>\n      <td>0.000631</td>\n      <td>0.003788</td>\n      <td>0.000631</td>\n      <td>0.002525</td>\n      <td>0.003157</td>\n      <td>0.005051</td>\n      <td>0.001263</td>\n      <td>0.001263</td>\n      <td>0.002525</td>\n      <td>0.000631</td>\n      <td>0.000631</td>\n      <td>0.000631</td>\n      <td>0.000631</td>\n      <td>0.020202</td>\n      <td>0.000631</td>\n      <td>0.000631</td>\n      <td>0.001894</td>\n      <td>0.00947</td>\n      <td>0.001263</td>\n      <td>0.000631</td>\n      <td>0.020202</td>\n      <td>0.002525</td>\n      <td>0.006944</td>\n      <td>0.000631</td>\n      <td>0.001263</td>\n      <td>0.013889</td>\n      <td>0.004419</td>\n      <td>0.003788</td>\n      <td>0.032197</td>\n      <td>0.000631</td>\n      <td>0.006313</td>\n      <td>0.003157</td>\n      <td>0.041667</td>\n      <td>0.008838</td>\n      <td>0.002525</td>\n      <td>0.001263</td>\n      <td>0.000631</td>\n      <td>0.000631</td>\n      <td>0.000631</td>\n      <td>0.000631</td>\n      <td>0.000631</td>\n      <td>0.002525</td>\n      <td>0.001263</td>\n      <td>0.003788</td>\n      <td>0.004419</td>\n      <td>0.003788</td>\n      <td>0.000631</td>\n      <td>0.000631</td>\n      <td>0.000631</td>\n      <td>0.000631</td>\n      <td>0.010101</td>\n      <td>0.000631</td>\n      <td>0.001894</td>\n      <td>0.018939</td>\n      <td>0.000631</td>\n      <td>0.001263</td>\n      <td>0.000631</td>\n      <td>0.005051</td>\n      <td>0.011995</td>\n      <td>0.005682</td>\n      <td>0.000631</td>\n      <td>0.001263</td>\n      <td>0.000631</td>\n      <td>0.002525</td>\n      <td>0.011364</td>\n      <td>0.001894</td>\n      <td>0.005682</td>\n      <td>0.006944</td>\n      <td>0.000631</td>\n      <td>0.000631</td>\n      <td>0.002525</td>\n    </tr>\n    <tr>\n      <th>1</th>\n      <td>1</td>\n      <td>0.000000</td>\n      <td>0.000000</td>\n      <td>0.000000</td>\n      <td>0.000000</td>\n      <td>0.000000</td>\n      <td>0.000000</td>\n      <td>0.000000</td>\n      <td>0.000000</td>\n      <td>0.000000</td>\n      <td>0.000000</td>\n      <td>0.000000</td>\n      <td>0.000000</td>\n      <td>0.000000</td>\n      <td>0.000000</td>\n      <td>0.000000</td>\n      <td>0.000000</td>\n      <td>0.000000</td>\n      <td>0.000000</td>\n      <td>0.000000</td>\n      <td>0.000000</td>\n      <td>0.000000</td>\n      <td>0.000000</td>\n      <td>0.000000</td>\n      <td>0.000000</td>\n      <td>0.000000</td>\n      <td>0.000000</td>\n      <td>0.000000</td>\n      <td>0.000000</td>\n      <td>0.000000</td>\n      <td>0.000000</td>\n      <td>0.000000</td>\n      <td>0.000000</td>\n      <td>0.000000</td>\n      <td>0.000000</td>\n      <td>0.000000</td>\n      <td>0.000000</td>\n      <td>0.000000</td>\n      <td>0.000000</td>\n      <td>0.000000</td>\n      <td>0.000000</td>\n      <td>0.000000</td>\n      <td>0.000000</td>\n      <td>0.000000</td>\n      <td>0.000000</td>\n      <td>0.000000</td>\n      <td>0.000000</td>\n      <td>0.000000</td>\n      <td>0.000000</td>\n      <td>0.000000</td>\n      <td>0.000000</td>\n      <td>0.000000</td>\n      <td>0.000000</td>\n      <td>0.000000</td>\n      <td>0.000000</td>\n      <td>0.000000</td>\n      <td>0.000000</td>\n      <td>0.000000</td>\n      <td>0.000000</td>\n      <td>0.000000</td>\n      <td>0.000000</td>\n      <td>0.000000</td>\n      <td>0.000000</td>\n      <td>0.000000</td>\n      <td>0.000000</td>\n      <td>0.000000</td>\n      <td>0.000000</td>\n      <td>0.000000</td>\n      <td>0.000000</td>\n      <td>0.000000</td>\n      <td>0.000000</td>\n      <td>0.000000</td>\n      <td>0.000000</td>\n      <td>0.000000</td>\n      <td>0.000000</td>\n      <td>0.000000</td>\n      <td>0.000000</td>\n      <td>0.000000</td>\n      <td>0.000000</td>\n      <td>0.000000</td>\n      <td>0.000000</td>\n      <td>0.000000</td>\n      <td>0.000000</td>\n      <td>0.000000</td>\n      <td>0.000000</td>\n      <td>0.000000</td>\n      <td>0.000000</td>\n      <td>0.000000</td>\n      <td>0.000000</td>\n      <td>0.000000</td>\n      <td>0.000000</td>\n      <td>0.000000</td>\n      <td>0.000000</td>\n      <td>0.000000</td>\n      <td>0.000000</td>\n      <td>0.000000</td>\n      <td>0.000000</td>\n      <td>0.000000</td>\n      <td>0.000000</td>\n      <td>0.000000</td>\n      <td>0.000000</td>\n      <td>0.000000</td>\n      <td>0.00000</td>\n      <td>0.000000</td>\n      <td>0.000000</td>\n      <td>0.000000</td>\n      <td>0.000000</td>\n      <td>0.000000</td>\n      <td>0.000000</td>\n      <td>0.000000</td>\n      <td>0.000000</td>\n      <td>0.000000</td>\n      <td>0.000000</td>\n      <td>0.000000</td>\n      <td>0.000000</td>\n      <td>0.000000</td>\n      <td>0.000000</td>\n      <td>0.000000</td>\n      <td>0.000000</td>\n      <td>0.000000</td>\n      <td>0.000000</td>\n      <td>0.000000</td>\n      <td>0.000000</td>\n      <td>0.000000</td>\n      <td>0.000000</td>\n      <td>0.000000</td>\n      <td>0.000000</td>\n      <td>0.000000</td>\n      <td>0.000000</td>\n      <td>0.000000</td>\n      <td>0.000000</td>\n      <td>0.000000</td>\n      <td>0.000000</td>\n      <td>0.000000</td>\n      <td>0.000000</td>\n      <td>0.000000</td>\n      <td>0.000000</td>\n      <td>0.000000</td>\n      <td>0.000000</td>\n      <td>0.000000</td>\n      <td>0.000000</td>\n      <td>0.000000</td>\n      <td>0.000000</td>\n      <td>0.000000</td>\n      <td>0.000000</td>\n      <td>0.000000</td>\n      <td>0.000000</td>\n      <td>0.000000</td>\n      <td>0.000000</td>\n      <td>0.000000</td>\n      <td>0.000000</td>\n      <td>0.000000</td>\n      <td>0.000000</td>\n      <td>0.000000</td>\n      <td>0.000000</td>\n      <td>0.000000</td>\n      <td>0.000000</td>\n      <td>0.000000</td>\n      <td>0.000000</td>\n      <td>0.000000</td>\n      <td>0.000000</td>\n      <td>0.000000</td>\n      <td>0.00000</td>\n      <td>0.000000</td>\n      <td>0.000000</td>\n      <td>0.000000</td>\n      <td>0.000000</td>\n      <td>0.000000</td>\n      <td>0.000000</td>\n      <td>0.000000</td>\n      <td>0.000000</td>\n      <td>0.000000</td>\n      <td>0.000000</td>\n      <td>0.000000</td>\n      <td>0.000000</td>\n      <td>0.000000</td>\n      <td>0.000000</td>\n      <td>0.000000</td>\n      <td>0.000000</td>\n      <td>0.000000</td>\n      <td>0.000000</td>\n      <td>0.000000</td>\n      <td>0.000000</td>\n      <td>0.000000</td>\n      <td>0.000000</td>\n      <td>0.000000</td>\n      <td>0.000000</td>\n      <td>0.000000</td>\n      <td>0.000000</td>\n      <td>0.000000</td>\n      <td>0.000000</td>\n      <td>0.000000</td>\n      <td>0.000000</td>\n      <td>0.000000</td>\n      <td>0.000000</td>\n      <td>0.000000</td>\n      <td>0.000000</td>\n      <td>0.000000</td>\n      <td>0.000000</td>\n      <td>0.000000</td>\n      <td>0.000000</td>\n      <td>0.000000</td>\n      <td>0.000000</td>\n      <td>0.000000</td>\n      <td>0.000000</td>\n      <td>0.000000</td>\n      <td>0.000000</td>\n      <td>0.000000</td>\n      <td>0.000000</td>\n      <td>0.000000</td>\n      <td>0.000000</td>\n      <td>0.000000</td>\n      <td>0.000000</td>\n      <td>0.000000</td>\n      <td>0.000000</td>\n      <td>0.000000</td>\n    </tr>\n  </tbody>\n</table>\n</div>"
     },
     "metadata": {},
     "execution_count": 45
    }
   ],
   "source": [
    "toronto_grouped = toronto_onehot.groupby('Neighborhood').mean().reset_index()\n",
    "toronto_grouped"
   ]
  },
  {
   "cell_type": "code",
   "execution_count": null,
   "metadata": {},
   "outputs": [],
   "source": []
  }
 ]
}