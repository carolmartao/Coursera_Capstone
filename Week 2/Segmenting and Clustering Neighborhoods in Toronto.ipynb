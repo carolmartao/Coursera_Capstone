{
 "metadata": {
  "language_info": {
   "codemirror_mode": {
    "name": "ipython",
    "version": 3
   },
   "file_extension": ".py",
   "mimetype": "text/x-python",
   "name": "python",
   "nbconvert_exporter": "python",
   "pygments_lexer": "ipython3",
   "version": "3.8.5-final"
  },
  "orig_nbformat": 2,
  "kernelspec": {
   "name": "python3",
   "display_name": "Python 3.8.5 64-bit",
   "metadata": {
    "interpreter": {
     "hash": "aee8b7b246df8f9039afb4144a1f6fd8d2ca17a180786b69acc140d282b71a49"
    }
   }
  }
 },
 "nbformat": 4,
 "nbformat_minor": 2,
 "cells": [
  {
   "cell_type": "code",
   "execution_count": 53,
   "metadata": {},
   "outputs": [
    {
     "output_type": "stream",
     "name": "stdout",
     "text": [
      "OK\n"
     ]
    }
   ],
   "source": [
    "import pandas as pd\n",
    "import requests\n",
    "import lxml\n",
    "import numpy as np\n",
    "from bs4 import BeautifulSoup\n",
    "print(\"OK\")"
   ]
  },
  {
   "cell_type": "code",
   "execution_count": 85,
   "metadata": {
    "tags": [
     "outputPrepend"
    ]
   },
   "outputs": [
    {
     "output_type": "stream",
     "name": "stdout",
     "text": [
      "=\"Downsview\">Downsview</a>)<br/>Northwest</span>\n</p>\n</td>\n<td style=\"vertical-align:top;\">\n<p><b>M4N</b><br/><span style=\"font-size:85%;\">Central Toronto<br/>(<a href=\"/wiki/Lawrence_Park,_Toronto\" title=\"Lawrence Park, Toronto\">Lawrence Park</a>)</span>\n</p>\n</td>\n<td style=\"vertical-align:top;\">\n<p><b>M5N</b><br/><span style=\"font-size:85%;\">Central Toronto<br/>(Roselawn)</span>\n</p>\n</td>\n<td style=\"vertical-align:top;\">\n<p><b>M6N</b><br/><span style=\"font-size:85%;\"><a href=\"/wiki/York,_Toronto\" title=\"York, Toronto\">York</a><br/>(<a href=\"/wiki/Runnymede,_Toronto\" title=\"Runnymede, Toronto\">Runnymede</a> / <a href=\"/wiki/The_Junction\" title=\"The Junction\">The Junction</a> North)</span>\n</p>\n</td>\n<td style=\"vertical-align:top; color:#ccc;\">\n<p><b>M7N</b><br/><span style=\"font-size:85%;\"><i>Not assigned</i></span>\n</p>\n</td>\n<td style=\"vertical-align:top; color:#ccc;\">\n<p><b>M8N</b><br/><span style=\"font-size:85%;\"><i>Not assigned</i></span>\n</p>\n</td>\n<td style=\"vertical-align:top;\">\n<p><b>M9N</b><br/><span style=\"font-size:85%;\"><a href=\"/wiki/York,_Toronto\" title=\"York, Toronto\">York</a><br/>(<a href=\"/wiki/Weston,_Toronto\" title=\"Weston, Toronto\">Weston</a>)</span>\n</p>\n</td></tr>\n<tr>\n<td style=\"vertical-align:top;\">\n<p><b>M1P</b><br/><span style=\"font-size:85%;\"><a href=\"/wiki/Scarborough,_Toronto\" title=\"Scarborough, Toronto\">Scarborough</a><br/>(<a href=\"/wiki/Dorset_Park\" title=\"Dorset Park\">Dorset Park</a> / <a class=\"mw-redirect\" href=\"/wiki/Wexford_Heights\" title=\"Wexford Heights\">Wexford Heights</a> / <a href=\"/wiki/Scarborough_Town_Centre\" title=\"Scarborough Town Centre\">Scarborough Town Centre</a>)</span>\n</p>\n</td>\n<td style=\"vertical-align:top;\">\n<p><b>M2P</b><br/><span style=\"font-size:85%;\"><a href=\"/wiki/North_York\" title=\"North York\">North York</a><br/>(<a href=\"/wiki/York_Mills\" title=\"York Mills\">York Mills</a> West)</span>\n</p>\n</td>\n<td style=\"vertical-align:top; color:#ccc;\">\n<p><b>M3P</b><br/><span style=\"font-size:85%;\"><i>Not assigned</i></span>\n</p>\n</td>\n<td style=\"vertical-align:top;\">\n<p><b>M4P</b><br/><span style=\"font-size:85%;\">Central Toronto<br/>(<a href=\"/wiki/Davisville_Village\" title=\"Davisville Village\">Davisville</a> North)</span>\n</p>\n</td>\n<td style=\"vertical-align:top;\">\n<p><b>M5P</b><br/><span style=\"font-size:85%;\">Central Toronto<br/>(<a href=\"/wiki/Forest_Hill,_Toronto\" title=\"Forest Hill, Toronto\">Forest Hill</a> North &amp; West)</span>\n</p>\n</td>\n<td style=\"vertical-align:top;\">\n<p><b>M6P</b><br/><span style=\"font-size:85%;\">West Toronto<br/>(<a href=\"/wiki/High_Park\" title=\"High Park\">High Park</a> / <a href=\"/wiki/The_Junction\" title=\"The Junction\">The Junction</a> South)</span>\n</p>\n</td>\n<td style=\"vertical-align:top; color:#ccc;\">\n<p><b>M7P</b><br/><span style=\"font-size:85%;\"><i>Not assigned</i></span>\n</p>\n</td>\n<td style=\"vertical-align:top; color:#ccc;\">\n<p><b>M8P</b><br/><span style=\"font-size:85%;\"><i>Not assigned</i></span>\n</p>\n</td>\n<td style=\"vertical-align:top;\">\n<p><b>M9P</b><br/><span style=\"font-size:85%;\"><a href=\"/wiki/Etobicoke\" title=\"Etobicoke\">Etobicoke</a><br/>(Westmount)</span>\n</p>\n</td></tr>\n<tr>\n<td style=\"vertical-align:top;\">\n<p><b>M1R</b><br/><span style=\"font-size:85%;\"><a href=\"/wiki/Scarborough,_Toronto\" title=\"Scarborough, Toronto\">Scarborough</a><br/>(<a href=\"/wiki/Wexford,_Toronto\" title=\"Wexford, Toronto\">Wexford</a> / <a href=\"/wiki/Maryvale,_Toronto\" title=\"Maryvale, Toronto\">Maryvale</a>)</span>\n</p>\n</td>\n<td style=\"vertical-align:top;\">\n<p><b>M2R</b><br/><span style=\"font-size:85%;\"><a href=\"/wiki/North_York\" title=\"North York\">North York</a><br/>(<a href=\"/wiki/Willowdale,_Toronto\" title=\"Willowdale, Toronto\">Willowdale</a>)<br/>West</span>\n</p>\n</td>\n<td style=\"vertical-align:top; color:#ccc;\">\n<p><b>M3R</b><br/><span style=\"font-size:85%;\"><i>Not assigned</i></span>\n</p>\n</td>\n<td style=\"vertical-align:top;\">\n<p><b>M4R</b><br/><span style=\"font-size:85%;\">Central Toronto<br/>(<a href=\"/wiki/North_Toronto\" title=\"North Toronto\">North Toronto</a> West)</span>\n</p>\n</td>\n<td style=\"vertical-align:top;\">\n<p><b>M5R</b><br/><span style=\"font-size:85%;\">Central Toronto<br/>(<a href=\"/wiki/The_Annex\" title=\"The Annex\">The Annex</a> / <a class=\"mw-redirect\" href=\"/wiki/North_Midtown,_Toronto\" title=\"North Midtown, Toronto\">North Midtown</a> / <a href=\"/wiki/Yorkville,_Toronto\" title=\"Yorkville, Toronto\">Yorkville</a>)</span>\n</p>\n</td>\n<td style=\"vertical-align:top;\">\n<p><b>M6R</b><br/><span style=\"font-size:85%;\">West Toronto<br/>(<a href=\"/wiki/Parkdale,_Toronto\" title=\"Parkdale, Toronto\">Parkdale</a> / <a href=\"/wiki/Roncesvalles,_Toronto\" title=\"Roncesvalles, Toronto\">Roncesvalles</a>)</span>\n</p>\n</td>\n<td style=\"vertical-align:top;\">\n<p><b>M7R</b><br/><span style=\"font-size:85%;\"><a href=\"/wiki/Mississauga\" title=\"Mississauga\">Mississauga</a><br/>Canada Post Gateway Processing Centre<br/>(Enclave of L4W)</span>\n</p>\n</td>\n<td style=\"vertical-align:top; color:#ccc;\">\n<p><b>M8R</b><br/><span style=\"font-size:85%;\"><i>Not assigned</i></span>\n</p>\n</td>\n<td style=\"vertical-align:top;\">\n<p><b>M9R</b><br/><span style=\"font-size:85%;\"><a href=\"/wiki/Etobicoke\" title=\"Etobicoke\">Etobicoke</a><br/>(<a href=\"/wiki/Kingsview_Village\" title=\"Kingsview Village\">Kingsview Village</a> / St. Phillips / Martin Grove Gardens / Richview Gardens)</span>\n</p>\n</td></tr>\n<tr>\n<td style=\"vertical-align:top;\">\n<p><b>M1S</b><br/><span style=\"font-size:85%;\"><a href=\"/wiki/Scarborough,_Toronto\" title=\"Scarborough, Toronto\">Scarborough</a><br/>(<a href=\"/wiki/Agincourt,_Toronto\" title=\"Agincourt, Toronto\">Agincourt</a>) </span>\n</p>\n</td>\n<td style=\"vertical-align:top; color:#ccc;\">\n<p><b>M2S</b><br/><span style=\"font-size:85%;\"><i>Not assigned</i></span>\n</p>\n</td>\n<td style=\"vertical-align:top; color:#ccc;\">\n<p><b>M3S</b><br/><span style=\"font-size:85%;\"><i>Not assigned</i></span>\n</p>\n</td>\n<td style=\"vertical-align:top;\">\n<p><b>M4S</b><br/><span style=\"font-size:85%;\">Central Toronto<br/>(<a href=\"/wiki/Davisville_Village\" title=\"Davisville Village\">Davisville</a>)</span>\n</p>\n</td>\n<td style=\"vertical-align:top;\">\n<p><b>M5S</b><br/><span style=\"font-size:85%;\"><a href=\"/wiki/Downtown_Toronto\" title=\"Downtown Toronto\">Downtown Toronto</a><br/>(<a href=\"/wiki/University_of_Toronto\" title=\"University of Toronto\">University of Toronto</a> / Harbord)</span>\n</p>\n</td>\n<td style=\"vertical-align:top;\">\n<p><b>M6S</b><br/><span style=\"font-size:85%;\">West Toronto<br/>(<a href=\"/wiki/Runnymede,_Toronto\" title=\"Runnymede, Toronto\">Runnymede</a> / <a href=\"/wiki/Swansea,_Toronto\" title=\"Swansea, Toronto\">Swansea</a>)</span>\n</p>\n</td>\n<td style=\"vertical-align:top; color:#ccc;\">\n<p><b>M7S</b><br/><span style=\"font-size:85%;\"><i>Not assigned</i></span>\n</p>\n</td>\n<td style=\"vertical-align:top; color:#ccc;\">\n<p><b>M8S</b><br/><span style=\"font-size:85%;\"><i>Not assigned</i></span>\n</p>\n</td>\n<td style=\"vertical-align:top; color:#ccc;\">\n<p><b>M9S</b><br/><span style=\"font-size:85%;\"><i>Not assigned</i></span>\n</p>\n</td></tr>\n<tr>\n<td style=\"vertical-align:top;\">\n<p><b>M1T</b><br/><span style=\"font-size:85%;\"><a href=\"/wiki/Scarborough,_Toronto\" title=\"Scarborough, Toronto\">Scarborough</a><br/>(Clarks Corners / <a class=\"mw-redirect\" href=\"/wiki/Tam_O%27Shanter,_Ontario\" title=\"Tam O'Shanter, Ontario\">Tam O'Shanter</a> / <a class=\"mw-redirect\" href=\"/wiki/Sullivan,_Toronto\" title=\"Sullivan, Toronto\">Sullivan</a>)</span>\n</p>\n</td>\n<td style=\"vertical-align:top; color:#ccc;\">\n<p><b>M2T</b><br/><span style=\"font-size:85%;\"><i>Not assigned</i></span>\n</p>\n</td>\n<td style=\"vertical-align:top; color:#ccc;\">\n<p><b>M3T</b><br/><span style=\"font-size:85%;\"><i>Not assigned</i></span>\n</p>\n</td>\n<td style=\"vertical-align:top;\">\n<p><b>M4T</b><br/><span style=\"font-size:85%;\">Central Toronto<br/>(<a href=\"/wiki/Moore_Park,_Toronto\" title=\"Moore Park, Toronto\">Moore Park</a> / <a href=\"/wiki/Summerhill,_Toronto\" title=\"Summerhill, Toronto\">Summerhill</a> East)</span>\n</p>\n</td>\n<td style=\"vertical-align:top;\">\n<p><b>M5T</b><br/><span style=\"font-size:85%;\"><a href=\"/wiki/Downtown_Toronto\" title=\"Downtown Toronto\">Downtown Toronto</a><br/>(<a href=\"/wiki/Kensington_Market\" title=\"Kensington Market\">Kensington Market</a> / <a href=\"/wiki/Chinatown,_Toronto\" title=\"Chinatown, Toronto\">Chinatown</a> / <a href=\"/wiki/Grange_Park_(Toronto)\" title=\"Grange Park (Toronto)\">Grange Park</a>)</span>\n</p>\n</td>\n<td style=\"vertical-align:top; color:#ccc;\">\n<p><b>M6T</b><br/><span style=\"font-size:85%;\"><i>Not assigned</i></span>\n</p>\n</td>\n<td style=\"vertical-align:top; color:#ccc;\">\n<p><b>M7T</b><br/><span style=\"font-size:85%;\"><i>Not assigned</i></span>\n</p>\n</td>\n<td style=\"vertical-align:top; color:#ccc;\">\n<p><b>M8T</b><br/><span style=\"font-size:85%;\"><i>Not assigned</i></span>\n</p>\n</td>\n<td style=\"vertical-align:top; color:#ccc;\">\n<p><b>M9T</b><br/><span style=\"font-size:85%;\"><i>Not assigned</i></span>\n</p>\n</td></tr>\n<tr>\n<td style=\"vertical-align:top;\">\n<p><b>M1V</b><br/><span style=\"font-size:85%;\"><a href=\"/wiki/Scarborough,_Toronto\" title=\"Scarborough, Toronto\">Scarborough</a><br/>(<a class=\"mw-redirect\" href=\"/wiki/Milliken,_Toronto\" title=\"Milliken, Toronto\">Milliken</a> / <a class=\"mw-redirect\" href=\"/wiki/Agincourt_North\" title=\"Agincourt North\">Agincourt North</a> / <a href=\"/wiki/Steeles,_Toronto\" title=\"Steeles, Toronto\">Steeles</a> East / <a href=\"/wiki/L%27Amoreaux\" title=\"L'Amoreaux\">L'Amoreaux</a> East)</span>\n</p>\n</td>\n<td style=\"vertical-align:top; color:#ccc;\">\n<p><b>M2V</b><br/><span style=\"font-size:85%;\"><i>Not assigned</i></span>\n</p>\n</td>\n<td style=\"vertical-align:top; color:#ccc;\">\n<p><b>M3V</b><br/><span style=\"font-size:85%;\"><i>Not assigned</i></span>\n</p>\n</td>\n<td style=\"vertical-align:top;\">\n<p><b>M4V</b><br/><span style=\"font-size:85%;\">Central Toronto<br/>(<a href=\"/wiki/Summerhill,_Toronto\" title=\"Summerhill, Toronto\">Summerhill</a> West / <a class=\"mw-redirect\" href=\"/wiki/Rathnelly\" title=\"Rathnelly\">Rathnelly</a> / <a href=\"/wiki/South_Hill,_Toronto\" title=\"South Hill, Toronto\">South Hill</a> / <a href=\"/wiki/Forest_Hill,_Toronto\" title=\"Forest Hill, Toronto\">Forest Hill</a> SE / <a href=\"/wiki/Deer_Park,_Toronto\" title=\"Deer Park, Toronto\">Deer Park</a>)</span>\n</p>\n</td>\n<td style=\"vertical-align:top;\">\n<p><b>M5V</b><br/><span style=\"font-size:85%;\"><a href=\"/wiki/Downtown_Toronto\" title=\"Downtown Toronto\">Downtown Toronto</a><br/>(<a href=\"/wiki/CN_Tower\" title=\"CN Tower\">CN Tower</a> / <a class=\"mw-redirect\" href=\"/wiki/King_and_Spadina\" title=\"King and Spadina\">King and Spadina</a> / <a href=\"/wiki/Railway_Lands\" title=\"Railway Lands\">Railway Lands</a> / <a class=\"mw-redirect\" href=\"/wiki/Harbourfront_(Toronto)\" title=\"Harbourfront (Toronto)\">Harbourfront</a> West / Bathurst Quay / <a class=\"mw-redirect\" href=\"/wiki/South_Niagara\" title=\"South Niagara\">South Niagara</a> / <a href=\"/wiki/Billy_Bishop_Toronto_City_Airport\" title=\"Billy Bishop Toronto City Airport\">Island airport</a>)</span>\n</p>\n</td>\n<td style=\"vertical-align:top; color:#ccc;\">\n<p><b>M6V</b><br/><span style=\"font-size:85%;\"><i>Not assigned</i></span>\n</p>\n</td>\n<td style=\"vertical-align:top; color:#ccc;\">\n<p><b>M7V</b><br/><span style=\"font-size:85%;\"><i>Not assigned</i></span>\n</p>\n</td>\n<td style=\"vertical-align:top;\">\n<p><b>M8V</b><br/><span style=\"font-size:85%;\"><a href=\"/wiki/Etobicoke\" title=\"Etobicoke\">Etobicoke</a><br/>(<a href=\"/wiki/New_Toronto\" title=\"New Toronto\">New Toronto</a> / <a href=\"/wiki/Mimico\" title=\"Mimico\">Mimico</a> South / Humber Bay Shores)</span>\n</p>\n</td>\n<td style=\"vertical-align:top;\">\n<p><b>M9V</b><br/><span style=\"font-size:85%;\"><a href=\"/wiki/Etobicoke\" title=\"Etobicoke\">Etobicoke</a><br/>(<a class=\"mw-redirect\" href=\"/wiki/South_Steeles\" title=\"South Steeles\">South Steeles</a> / <a class=\"mw-redirect\" href=\"/wiki/Silverstone,_Toronto\" title=\"Silverstone, Toronto\">Silverstone</a> / Humbergate / <a class=\"mw-redirect\" href=\"/wiki/Jamestown,_Toronto\" title=\"Jamestown, Toronto\">Jamestown</a> / <a class=\"mw-redirect\" href=\"/wiki/Mount_Olive,_Toronto\" title=\"Mount Olive, Toronto\">Mount Olive</a> / <a class=\"mw-redirect\" href=\"/wiki/Beaumond_Heights\" title=\"Beaumond Heights\">Beaumond Heights</a> / <a href=\"/wiki/Thistletown\" title=\"Thistletown\">Thistletown</a> / Albion Gardens)</span>\n</p>\n</td></tr>\n<tr>\n<td style=\"vertical-align:top;\">\n<p><b>M1W</b><br/><span style=\"font-size:85%;\"><a href=\"/wiki/Scarborough,_Toronto\" title=\"Scarborough, Toronto\">Scarborough</a><br/>(<a href=\"/wiki/Steeles,_Toronto\" title=\"Steeles, Toronto\">Steeles</a> West / <a href=\"/wiki/L%27Amoreaux\" title=\"L'Amoreaux\">L'Amoreaux</a> West)</span>\n</p>\n</td>\n<td style=\"vertical-align:top; color:#ccc;\">\n<p><b>M2W</b><br/><span style=\"font-size:85%;\"><i>Not assigned</i></span>\n</p>\n</td>\n<td style=\"vertical-align:top; color:#ccc;\">\n<p><b>M3W</b><br/><span style=\"font-size:85%;\"><i>Not assigned</i></span>\n</p>\n</td>\n<td style=\"vertical-align:top;\">\n<p><b>M4W</b><br/><span style=\"font-size:85%;\"><a href=\"/wiki/Downtown_Toronto\" title=\"Downtown Toronto\">Downtown Toronto</a><br/>(<a href=\"/wiki/Rosedale,_Toronto\" title=\"Rosedale, Toronto\">Rosedale</a>)</span>\n</p>\n</td>\n<td style=\"vertical-align:top;\">\n<p><b>M5W</b><br/><span style=\"font-size:85%;\"><a href=\"/wiki/Downtown_Toronto\" title=\"Downtown Toronto\">Downtown Toronto</a><br/>Stn A PO Boxes<br/>25 The Esplanade<br/>(Enclave of M5E)</span>\n</p>\n</td>\n<td style=\"vertical-align:top; color:#ccc;\">\n<p><b>M6W</b><br/><span style=\"font-size:85%;\"><i>Not assigned</i></span>\n</p>\n</td>\n<td style=\"vertical-align:top; color:#ccc;\">\n<p><b>M7W</b><br/><span style=\"font-size:85%;\"><i>Not assigned</i></span>\n</p>\n</td>\n<td style=\"vertical-align:top;\">\n<p><b>M8W</b><br/><span style=\"font-size:85%;\"><a href=\"/wiki/Etobicoke\" title=\"Etobicoke\">Etobicoke</a><br/>(<a href=\"/wiki/Alderwood,_Toronto\" title=\"Alderwood, Toronto\">Alderwood</a> / <a href=\"/wiki/Long_Branch,_Toronto\" title=\"Long Branch, Toronto\">Long Branch</a>)</span>\n</p>\n</td>\n<td style=\"vertical-align:top;\">\n<p><b>M9W</b><br/><span style=\"font-size:85%;\"><a href=\"/wiki/Etobicoke\" title=\"Etobicoke\">Etobicoke</a><br/>Northwest<br/>(<a class=\"mw-redirect\" href=\"/wiki/Clairville,_Toronto\" title=\"Clairville, Toronto\">Clairville</a> / <a href=\"/wiki/Humberwood\" title=\"Humberwood\">Humberwood</a> / <a class=\"mw-redirect\" href=\"/wiki/Woodbine_Downs\" title=\"Woodbine Downs\">Woodbine Downs</a> / West Humber / Kipling Heights / <a href=\"/wiki/Rexdale\" title=\"Rexdale\">Rexdale</a> / <a class=\"mw-redirect\" href=\"/wiki/Elms,_Toronto\" title=\"Elms, Toronto\">Elms</a> / Tandridge / Old Rexdale)</span>\n</p>\n</td></tr>\n<tr>\n<td style=\"vertical-align:top;\">\n<p><b>M1X</b><br/><span style=\"font-size:85%;\"><a href=\"/wiki/Scarborough,_Toronto\" title=\"Scarborough, Toronto\">Scarborough</a><br/>(<a class=\"mw-redirect\" href=\"/wiki/Upper_Rouge\" title=\"Upper Rouge\">Upper Rouge</a>)</span>\n</p>\n</td>\n<td style=\"vertical-align:top; color:#ccc;\">\n<p><b>M2X</b><br/><span style=\"font-size:85%;\"><i>Not assigned</i></span>\n</p>\n</td>\n<td style=\"vertical-align:top; color:#ccc;\">\n<p><b>M3X</b><br/><span style=\"font-size:85%;\"><i>Not assigned</i></span>\n</p>\n</td>\n<td style=\"vertical-align:top;\">\n<p><b>M4X</b><br/><span style=\"font-size:85%;\"><a href=\"/wiki/Downtown_Toronto\" title=\"Downtown Toronto\">Downtown Toronto</a><br/>(<a href=\"/wiki/St._James_Town\" title=\"St. James Town\">St. James Town</a> / <a class=\"mw-redirect\" href=\"/wiki/Cabbagetown_(Toronto)\" title=\"Cabbagetown (Toronto)\">Cabbagetown</a>)</span>\n</p>\n</td>\n<td style=\"vertical-align:top;\">\n<p><b>M5X</b><br/><span style=\"font-size:85%;\"><a href=\"/wiki/Downtown_Toronto\" title=\"Downtown Toronto\">Downtown Toronto</a><br/>(<a href=\"/wiki/First_Canadian_Place\" title=\"First Canadian Place\">First Canadian Place</a> / <a href=\"/wiki/PATH_(Toronto)\" title=\"PATH (Toronto)\">Underground city</a>)</span>\n</p>\n</td>\n<td style=\"vertical-align:top; color:#ccc;\">\n<p><b>M6X</b><br/><span style=\"font-size:85%;\"><i>Not assigned</i></span>\n</p>\n</td>\n<td style=\"vertical-align:top; color:#ccc;\">\n<p><b>M7X</b><br/><span style=\"font-size:85%;\"><i>Not assigned</i></span>\n</p>\n</td>\n<td style=\"vertical-align:top;\">\n<p><b>M8X</b><br/><span style=\"font-size:85%;\"><a href=\"/wiki/Etobicoke\" title=\"Etobicoke\">Etobicoke</a><br/>(<a href=\"/wiki/The_Kingsway,_Toronto\" title=\"The Kingsway, Toronto\">The Kingsway</a> / Montgomery Road / <a href=\"/wiki/Old_Mill,_Toronto\" title=\"Old Mill, Toronto\">Old Mill</a> North)</span>\n</p>\n</td>\n<td style=\"vertical-align:top; color:#ccc;\">\n<p><b>M9X</b><br/><span style=\"font-size:85%;\"><i>Not assigned</i></span>\n</p>\n</td></tr>\n<tr>\n<td style=\"vertical-align:top; color:#ccc;\">\n<p><b>M1Y</b><br/><span style=\"font-size:85%;\"><i>Not assigned</i></span>\n</p>\n</td>\n<td style=\"vertical-align:top; color:#ccc;\">\n<p><b>M2Y</b><br/><span style=\"font-size:85%;\"><i>Not assigned</i></span>\n</p>\n</td>\n<td style=\"vertical-align:top; color:#ccc;\">\n<p><b>M3Y</b><br/><span style=\"font-size:85%;\"><i>Not assigned</i></span>\n</p>\n</td>\n<td style=\"vertical-align:top;\">\n<p><b>M4Y</b><br/><span style=\"font-size:85%;\"><a href=\"/wiki/Downtown_Toronto\" title=\"Downtown Toronto\">Downtown Toronto</a><br/>(<a href=\"/wiki/Church_and_Wellesley\" title=\"Church and Wellesley\">Church and Wellesley</a>)</span>\n</p>\n</td>\n<td style=\"vertical-align:top; color:#ccc;\">\n<p><b>M5Y</b><br/><span style=\"font-size:85%;\"><i>Not assigned</i></span>\n</p>\n</td>\n<td style=\"vertical-align:top; color:#ccc;\">\n<p><b>M6Y</b><br/><span style=\"font-size:85%;\"><i>Not assigned</i></span>\n</p>\n</td>\n<td style=\"vertical-align:top;\">\n<p><b>M7Y</b><br/><span style=\"font-size:85%;\">East Toronto<br/><a class=\"mw-redirect\" href=\"/wiki/Business_reply_mail\" title=\"Business reply mail\">Business reply mail</a> Processing Centre<br/>969 Eastern<br/>(Enclave of M4L)</span>\n</p>\n</td>\n<td style=\"vertical-align:top;\">\n<p><b>M8Y</b><br/><span style=\"font-size:85%;\"><a href=\"/wiki/Etobicoke\" title=\"Etobicoke\">Etobicoke</a><br/>(<a href=\"/wiki/Old_Mill,_Toronto\" title=\"Old Mill, Toronto\">Old Mill</a> South / King's Mill Park / <a class=\"mw-redirect\" href=\"/wiki/Sunnylea\" title=\"Sunnylea\">Sunnylea</a> / <a href=\"/wiki/Humber_Bay\" title=\"Humber Bay\">Humber Bay</a> / <a href=\"/wiki/Mimico\" title=\"Mimico\">Mimico</a> NE / <a class=\"mw-redirect\" href=\"/wiki/The_Queensway_(Toronto)\" title=\"The Queensway (Toronto)\">The Queensway</a> East / Royal York South East / Kingsway Park South East)</span>\n</p>\n</td>\n<td style=\"vertical-align:top; color:#ccc;\">\n<p><b>M9Y</b><br/><span style=\"font-size:85%;\"><i>Not assigned</i></span>\n</p>\n</td></tr>\n<tr>\n<td style=\"vertical-align:top; color:#ccc;\">\n<p><b>M1Z</b><br/><span style=\"font-size:85%;\"><i>Not assigned</i></span>\n</p>\n</td>\n<td style=\"vertical-align:top; color:#ccc;\">\n<p><b>M2Z</b><br/><span style=\"font-size:85%;\"><i>Not assigned</i></span>\n</p>\n</td>\n<td style=\"vertical-align:top; color:#ccc;\">\n<p><b>M3Z</b><br/><span style=\"font-size:85%;\"><i>Not assigned</i></span>\n</p>\n</td>\n<td style=\"vertical-align:top; color:#ccc;\">\n<p><b>M4Z</b><br/><span style=\"font-size:85%;\"><i>Not assigned</i></span>\n</p>\n</td>\n<td style=\"vertical-align:top; color:#ccc;\">\n<p><b>M5Z</b><br/><span style=\"font-size:85%;\"><i>Not assigned</i></span>\n</p>\n</td>\n<td style=\"vertical-align:top; color:#ccc;\">\n<p><b>M6Z</b><br/><span style=\"font-size:85%;\"><i>Not assigned</i></span>\n</p>\n</td>\n<td style=\"vertical-align:top; color:#ccc;\">\n<p><b>M7Z</b><br/><span style=\"font-size:85%;\"><i>Not assigned</i></span>\n</p>\n</td>\n<td style=\"vertical-align:top;\">\n<p><b>M8Z</b><br/><span style=\"font-size:85%;\"><a href=\"/wiki/Etobicoke\" title=\"Etobicoke\">Etobicoke</a><br/>(<a href=\"/wiki/Mimico\" title=\"Mimico\">Mimico</a> NW / <a href=\"/wiki/The_Queensway\" title=\"The Queensway\">The Queensway</a> West / South of Bloor / Kingsway Park South West / Royal York South West)</span>\n</p>\n</td>\n<td style=\"vertical-align:top; color:#ccc;\">\n<p><b>M9Z</b><br/><span style=\"font-size:85%;\"><i>Not assigned</i></span>\n</p>\n</td></tr></tbody>\n"
     ]
    }
   ],
   "source": [
    "URL = \"https://en.wikipedia.org/wiki/List_of_postal_codes_of_Canada:_M\"\n",
    "response = requests.get(URL)\n",
    "soup= BeautifulSoup(response.text, 'html.parser')\n",
    "table = soup.find('table')\n",
    "table = table.find('tbody')\n",
    "\n",
    "print(table)"
   ]
  },
  {
   "cell_type": "code",
   "execution_count": 91,
   "metadata": {},
   "outputs": [],
   "source": [
    "#dataframe will consist of three columns: PostalCode, Borough, and Neighborhood\n",
    "column_names = ['Postalcode','Borough','Neighborhood']\n",
    "df = pd.DataFrame(columns = column_names)"
   ]
  },
  {
   "cell_type": "code",
   "execution_count": 92,
   "metadata": {},
   "outputs": [
    {
     "output_type": "execute_result",
     "data": {
      "text/plain": [
       "Empty DataFrame\n",
       "Columns: [Postalcode, Borough, Neighborhood]\n",
       "Index: []"
      ],
      "text/html": "<div>\n<style scoped>\n    .dataframe tbody tr th:only-of-type {\n        vertical-align: middle;\n    }\n\n    .dataframe tbody tr th {\n        vertical-align: top;\n    }\n\n    .dataframe thead th {\n        text-align: right;\n    }\n</style>\n<table border=\"1\" class=\"dataframe\">\n  <thead>\n    <tr style=\"text-align: right;\">\n      <th></th>\n      <th>Postalcode</th>\n      <th>Borough</th>\n      <th>Neighborhood</th>\n    </tr>\n  </thead>\n  <tbody>\n  </tbody>\n</table>\n</div>"
     },
     "metadata": {},
     "execution_count": 92
    }
   ],
   "source": [
    "df.head()"
   ]
  },
  {
   "cell_type": "code",
   "execution_count": 93,
   "metadata": {},
   "outputs": [],
   "source": [
    "table_contents=[]\n",
    "table=soup.find('table')\n",
    "for row in table.findAll('td'):\n",
    "    cell = {}\n",
    "    if row.span.text=='Not assigned':\n",
    "        pass\n",
    "    else:\n",
    "        cell['PostalCode'] = row.p.text[:3]\n",
    "        cell['Borough'] = (row.span.text).split('(')[0]\n",
    "        cell['Neighborhood'] = (((((row.span.text).split('(')[1]).strip(')')).replace(' /',',')).replace(')',' ')).strip(' ')\n",
    "        table_contents.append(cell)\n",
    "\n",
    "# print(table_contents)\n",
    "df=pd.DataFrame(table_contents)\n",
    "df['Borough']=df['Borough'].replace({'Downtown TorontoStn A PO Boxes25 The Esplanade':'Downtown Toronto Stn A',\n",
    "                                            'East TorontoBusiness reply mail Processing Centre969 Eastern':'East Toronto Business',\n",
    "                                             'EtobicokeNorthwest':'Etobicoke Northwest','East YorkEast Toronto':'East York/East Toronto',\n",
    "                                             'MississaugaCanada Post Gateway Processing Centre':'Mississauga'})"
   ]
  },
  {
   "cell_type": "code",
   "execution_count": 94,
   "metadata": {},
   "outputs": [
    {
     "output_type": "stream",
     "name": "stdout",
     "text": [
      "    PostalCode                Borough  \\\n0          M3A             North York   \n1          M4A             North York   \n2          M5A       Downtown Toronto   \n3          M6A             North York   \n4          M7A           Queen's Park   \n..         ...                    ...   \n98         M8X              Etobicoke   \n99         M4Y       Downtown Toronto   \n100        M7Y  East Toronto Business   \n101        M8Y              Etobicoke   \n102        M8Z              Etobicoke   \n\n                                          Neighborhood  \n0                                            Parkwoods  \n1                                     Victoria Village  \n2                            Regent Park, Harbourfront  \n3                     Lawrence Manor, Lawrence Heights  \n4                        Ontario Provincial Government  \n..                                                 ...  \n98       The Kingsway, Montgomery Road, Old Mill North  \n99                                Church and Wellesley  \n100                                     Enclave of M4L  \n101  Old Mill South, King's Mill Park, Sunnylea, Hu...  \n102  Mimico NW, The Queensway West, South of Bloor,...  \n\n[103 rows x 3 columns]\n"
     ]
    }
   ],
   "source": [
    "print(df)"
   ]
  },
  {
   "cell_type": "code",
   "execution_count": null,
   "metadata": {},
   "outputs": [],
   "source": []
  }
 ]
}